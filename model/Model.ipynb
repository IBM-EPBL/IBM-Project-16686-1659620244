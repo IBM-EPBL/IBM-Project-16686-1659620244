{
 "cells": [
  {
   "cell_type": "code",
   "execution_count": 1,
   "id": "formed-examination",
   "metadata": {},
   "outputs": [],
   "source": [
    "import tensorflow as tf\n",
    "import tensorflow_hub as hub\n",
    "import tensorflow_text as text\n",
    "import pandas as pd\n",
    "from tensorflow.keras.utils import to_categorical\n",
    "import numpy as np"
   ]
  },
  {
   "cell_type": "code",
   "execution_count": 2,
   "id": "proof-phase",
   "metadata": {},
   "outputs": [],
   "source": [
    "df=pd.read_csv(\"prediction.csv\")"
   ]
  },
  {
   "cell_type": "code",
   "execution_count": 3,
   "id": "touched-shift",
   "metadata": {},
   "outputs": [],
   "source": [
    "y_data=df[\"Fertilizer Name\"]\n"
   ]
  },
  {
   "cell_type": "code",
   "execution_count": 4,
   "id": "august-azerbaijan",
   "metadata": {},
   "outputs": [
    {
     "data": {
      "text/plain": [
       "(99,)"
      ]
     },
     "execution_count": 4,
     "metadata": {},
     "output_type": "execute_result"
    }
   ],
   "source": [
    "y_data.shape"
   ]
  },
  {
   "cell_type": "code",
   "execution_count": 5,
   "id": "speaking-reserve",
   "metadata": {},
   "outputs": [],
   "source": [
    "df_n=df"
   ]
  },
  {
   "cell_type": "code",
   "execution_count": 6,
   "id": "broken-kuwait",
   "metadata": {},
   "outputs": [
    {
     "data": {
      "text/plain": [
       "array(['Sandy', 'Loamy', 'Black', 'Red', 'Clayey'], dtype=object)"
      ]
     },
     "execution_count": 6,
     "metadata": {},
     "output_type": "execute_result"
    }
   ],
   "source": [
    "df[\"Soil Type\"].unique()"
   ]
  },
  {
   "cell_type": "code",
   "execution_count": 90,
   "id": "reported-bradley",
   "metadata": {},
   "outputs": [
    {
     "data": {
      "text/plain": [
       "array(['Maize', 'Sugarcane', 'Cotton', 'Tobacco', 'Paddy', 'Barley',\n",
       "       'Wheat', 'Millets', 'Oil seeds', 'Pulses', 'Ground Nuts'],\n",
       "      dtype=object)"
      ]
     },
     "execution_count": 90,
     "metadata": {},
     "output_type": "execute_result"
    }
   ],
   "source": [
    "df[\"Crop Type\"].unique()"
   ]
  },
  {
   "cell_type": "code",
   "execution_count": 91,
   "id": "horizontal-subsection",
   "metadata": {},
   "outputs": [],
   "source": [
    "label_soil={\"sandy\":1,\"loamy\":2,\"black\":3,\"red\":4,\"clayey\":5}"
   ]
  },
  {
   "cell_type": "code",
   "execution_count": 92,
   "id": "north-scholar",
   "metadata": {},
   "outputs": [],
   "source": [
    "df_n[\"Soil Type\"]=df[\"Soil Type\"].apply(lambda x:1 if x==\"Sandy\" else 2 if x==\"Loamy\" else 3 if x==\"Black\" else 4 if x==\"Red\" else 5)"
   ]
  },
  {
   "cell_type": "code",
   "execution_count": 93,
   "id": "listed-compound",
   "metadata": {},
   "outputs": [],
   "source": [
    "df_m=df_n"
   ]
  },
  {
   "cell_type": "code",
   "execution_count": 94,
   "id": "muslim-walter",
   "metadata": {},
   "outputs": [],
   "source": [
    "label_crop={\"maize\":1,\"sugarcane\":2,\"cotton\":3,\"tobacco\":4,\"paddy\":5,\"barley\":6,\"wheat\":7,\"millets\":8,\"oil seeds\":9,\"pulses\":10,\"ground nuts\":11}"
   ]
  },
  {
   "cell_type": "code",
   "execution_count": 95,
   "id": "pregnant-trouble",
   "metadata": {},
   "outputs": [],
   "source": [
    "df_m[\"Crop Type\"]=df[\"Crop Type\"].apply(lambda x:1 if x==\"Maize\" else 2 if x==\"Sugarcane\" else 3 if x==\"Cotton\" else 4 if x==\"Tobacco\" else 5 if x==\"Paddy\" else 6 if x==\"Barley\" else 7 if x==\"Wheat\" else 8 if x==\"Millets\" else 9 if x==\"Oil seeds\" else 10 if x==\"Pulses\" else 11)"
   ]
  },
  {
   "cell_type": "code",
   "execution_count": 96,
   "id": "geographic-arthritis",
   "metadata": {
    "scrolled": true
   },
   "outputs": [
    {
     "data": {
      "text/html": [
       "<div>\n",
       "<style scoped>\n",
       "    .dataframe tbody tr th:only-of-type {\n",
       "        vertical-align: middle;\n",
       "    }\n",
       "\n",
       "    .dataframe tbody tr th {\n",
       "        vertical-align: top;\n",
       "    }\n",
       "\n",
       "    .dataframe thead th {\n",
       "        text-align: right;\n",
       "    }\n",
       "</style>\n",
       "<table border=\"1\" class=\"dataframe\">\n",
       "  <thead>\n",
       "    <tr style=\"text-align: right;\">\n",
       "      <th></th>\n",
       "      <th>Temparature</th>\n",
       "      <th>Humidity</th>\n",
       "      <th>Moisture</th>\n",
       "      <th>Soil Type</th>\n",
       "      <th>Crop Type</th>\n",
       "      <th>Nitrogen</th>\n",
       "      <th>Potassium</th>\n",
       "      <th>Phosphorous</th>\n",
       "      <th>Fertilizer Name</th>\n",
       "    </tr>\n",
       "  </thead>\n",
       "  <tbody>\n",
       "    <tr>\n",
       "      <th>0</th>\n",
       "      <td>26</td>\n",
       "      <td>52</td>\n",
       "      <td>38</td>\n",
       "      <td>1</td>\n",
       "      <td>1</td>\n",
       "      <td>37</td>\n",
       "      <td>0</td>\n",
       "      <td>0</td>\n",
       "      <td>Urea</td>\n",
       "    </tr>\n",
       "    <tr>\n",
       "      <th>1</th>\n",
       "      <td>29</td>\n",
       "      <td>52</td>\n",
       "      <td>45</td>\n",
       "      <td>2</td>\n",
       "      <td>2</td>\n",
       "      <td>12</td>\n",
       "      <td>0</td>\n",
       "      <td>36</td>\n",
       "      <td>DAP</td>\n",
       "    </tr>\n",
       "    <tr>\n",
       "      <th>2</th>\n",
       "      <td>34</td>\n",
       "      <td>65</td>\n",
       "      <td>62</td>\n",
       "      <td>3</td>\n",
       "      <td>3</td>\n",
       "      <td>7</td>\n",
       "      <td>9</td>\n",
       "      <td>30</td>\n",
       "      <td>14-35-14</td>\n",
       "    </tr>\n",
       "    <tr>\n",
       "      <th>3</th>\n",
       "      <td>32</td>\n",
       "      <td>62</td>\n",
       "      <td>34</td>\n",
       "      <td>4</td>\n",
       "      <td>4</td>\n",
       "      <td>22</td>\n",
       "      <td>0</td>\n",
       "      <td>20</td>\n",
       "      <td>28-28</td>\n",
       "    </tr>\n",
       "    <tr>\n",
       "      <th>4</th>\n",
       "      <td>28</td>\n",
       "      <td>54</td>\n",
       "      <td>46</td>\n",
       "      <td>5</td>\n",
       "      <td>5</td>\n",
       "      <td>35</td>\n",
       "      <td>0</td>\n",
       "      <td>0</td>\n",
       "      <td>Urea</td>\n",
       "    </tr>\n",
       "    <tr>\n",
       "      <th>...</th>\n",
       "      <td>...</td>\n",
       "      <td>...</td>\n",
       "      <td>...</td>\n",
       "      <td>...</td>\n",
       "      <td>...</td>\n",
       "      <td>...</td>\n",
       "      <td>...</td>\n",
       "      <td>...</td>\n",
       "      <td>...</td>\n",
       "    </tr>\n",
       "    <tr>\n",
       "      <th>94</th>\n",
       "      <td>25</td>\n",
       "      <td>50</td>\n",
       "      <td>32</td>\n",
       "      <td>5</td>\n",
       "      <td>10</td>\n",
       "      <td>24</td>\n",
       "      <td>0</td>\n",
       "      <td>19</td>\n",
       "      <td>28-28</td>\n",
       "    </tr>\n",
       "    <tr>\n",
       "      <th>95</th>\n",
       "      <td>30</td>\n",
       "      <td>60</td>\n",
       "      <td>27</td>\n",
       "      <td>4</td>\n",
       "      <td>4</td>\n",
       "      <td>4</td>\n",
       "      <td>17</td>\n",
       "      <td>17</td>\n",
       "      <td>10-26-26</td>\n",
       "    </tr>\n",
       "    <tr>\n",
       "      <th>96</th>\n",
       "      <td>38</td>\n",
       "      <td>72</td>\n",
       "      <td>51</td>\n",
       "      <td>2</td>\n",
       "      <td>7</td>\n",
       "      <td>39</td>\n",
       "      <td>0</td>\n",
       "      <td>0</td>\n",
       "      <td>Urea</td>\n",
       "    </tr>\n",
       "    <tr>\n",
       "      <th>97</th>\n",
       "      <td>36</td>\n",
       "      <td>60</td>\n",
       "      <td>43</td>\n",
       "      <td>1</td>\n",
       "      <td>8</td>\n",
       "      <td>15</td>\n",
       "      <td>0</td>\n",
       "      <td>41</td>\n",
       "      <td>DAP</td>\n",
       "    </tr>\n",
       "    <tr>\n",
       "      <th>98</th>\n",
       "      <td>29</td>\n",
       "      <td>58</td>\n",
       "      <td>57</td>\n",
       "      <td>3</td>\n",
       "      <td>2</td>\n",
       "      <td>12</td>\n",
       "      <td>0</td>\n",
       "      <td>10</td>\n",
       "      <td>20-20</td>\n",
       "    </tr>\n",
       "  </tbody>\n",
       "</table>\n",
       "<p>99 rows × 9 columns</p>\n",
       "</div>"
      ],
      "text/plain": [
       "    Temparature  Humidity   Moisture  Soil Type  Crop Type  Nitrogen  \\\n",
       "0            26         52        38          1          1        37   \n",
       "1            29         52        45          2          2        12   \n",
       "2            34         65        62          3          3         7   \n",
       "3            32         62        34          4          4        22   \n",
       "4            28         54        46          5          5        35   \n",
       "..          ...        ...       ...        ...        ...       ...   \n",
       "94           25         50        32          5         10        24   \n",
       "95           30         60        27          4          4         4   \n",
       "96           38         72        51          2          7        39   \n",
       "97           36         60        43          1          8        15   \n",
       "98           29         58        57          3          2        12   \n",
       "\n",
       "    Potassium  Phosphorous Fertilizer Name  \n",
       "0           0            0            Urea  \n",
       "1           0           36             DAP  \n",
       "2           9           30        14-35-14  \n",
       "3           0           20           28-28  \n",
       "4           0            0            Urea  \n",
       "..        ...          ...             ...  \n",
       "94          0           19           28-28  \n",
       "95         17           17        10-26-26  \n",
       "96          0            0            Urea  \n",
       "97          0           41             DAP  \n",
       "98          0           10           20-20  \n",
       "\n",
       "[99 rows x 9 columns]"
      ]
     },
     "execution_count": 96,
     "metadata": {},
     "output_type": "execute_result"
    }
   ],
   "source": [
    "df_m"
   ]
  },
  {
   "cell_type": "code",
   "execution_count": 97,
   "id": "fourth-context",
   "metadata": {},
   "outputs": [],
   "source": [
    "x=df_m"
   ]
  },
  {
   "cell_type": "code",
   "execution_count": 98,
   "id": "painful-lesson",
   "metadata": {},
   "outputs": [],
   "source": [
    "del x[\"Fertilizer Name\"]"
   ]
  },
  {
   "cell_type": "code",
   "execution_count": 99,
   "id": "smoking-phase",
   "metadata": {},
   "outputs": [
    {
     "data": {
      "text/html": [
       "<div>\n",
       "<style scoped>\n",
       "    .dataframe tbody tr th:only-of-type {\n",
       "        vertical-align: middle;\n",
       "    }\n",
       "\n",
       "    .dataframe tbody tr th {\n",
       "        vertical-align: top;\n",
       "    }\n",
       "\n",
       "    .dataframe thead th {\n",
       "        text-align: right;\n",
       "    }\n",
       "</style>\n",
       "<table border=\"1\" class=\"dataframe\">\n",
       "  <thead>\n",
       "    <tr style=\"text-align: right;\">\n",
       "      <th></th>\n",
       "      <th>Temparature</th>\n",
       "      <th>Humidity</th>\n",
       "      <th>Moisture</th>\n",
       "      <th>Soil Type</th>\n",
       "      <th>Crop Type</th>\n",
       "      <th>Nitrogen</th>\n",
       "      <th>Potassium</th>\n",
       "      <th>Phosphorous</th>\n",
       "    </tr>\n",
       "  </thead>\n",
       "  <tbody>\n",
       "    <tr>\n",
       "      <th>0</th>\n",
       "      <td>26</td>\n",
       "      <td>52</td>\n",
       "      <td>38</td>\n",
       "      <td>1</td>\n",
       "      <td>1</td>\n",
       "      <td>37</td>\n",
       "      <td>0</td>\n",
       "      <td>0</td>\n",
       "    </tr>\n",
       "    <tr>\n",
       "      <th>1</th>\n",
       "      <td>29</td>\n",
       "      <td>52</td>\n",
       "      <td>45</td>\n",
       "      <td>2</td>\n",
       "      <td>2</td>\n",
       "      <td>12</td>\n",
       "      <td>0</td>\n",
       "      <td>36</td>\n",
       "    </tr>\n",
       "    <tr>\n",
       "      <th>2</th>\n",
       "      <td>34</td>\n",
       "      <td>65</td>\n",
       "      <td>62</td>\n",
       "      <td>3</td>\n",
       "      <td>3</td>\n",
       "      <td>7</td>\n",
       "      <td>9</td>\n",
       "      <td>30</td>\n",
       "    </tr>\n",
       "    <tr>\n",
       "      <th>3</th>\n",
       "      <td>32</td>\n",
       "      <td>62</td>\n",
       "      <td>34</td>\n",
       "      <td>4</td>\n",
       "      <td>4</td>\n",
       "      <td>22</td>\n",
       "      <td>0</td>\n",
       "      <td>20</td>\n",
       "    </tr>\n",
       "    <tr>\n",
       "      <th>4</th>\n",
       "      <td>28</td>\n",
       "      <td>54</td>\n",
       "      <td>46</td>\n",
       "      <td>5</td>\n",
       "      <td>5</td>\n",
       "      <td>35</td>\n",
       "      <td>0</td>\n",
       "      <td>0</td>\n",
       "    </tr>\n",
       "    <tr>\n",
       "      <th>...</th>\n",
       "      <td>...</td>\n",
       "      <td>...</td>\n",
       "      <td>...</td>\n",
       "      <td>...</td>\n",
       "      <td>...</td>\n",
       "      <td>...</td>\n",
       "      <td>...</td>\n",
       "      <td>...</td>\n",
       "    </tr>\n",
       "    <tr>\n",
       "      <th>94</th>\n",
       "      <td>25</td>\n",
       "      <td>50</td>\n",
       "      <td>32</td>\n",
       "      <td>5</td>\n",
       "      <td>10</td>\n",
       "      <td>24</td>\n",
       "      <td>0</td>\n",
       "      <td>19</td>\n",
       "    </tr>\n",
       "    <tr>\n",
       "      <th>95</th>\n",
       "      <td>30</td>\n",
       "      <td>60</td>\n",
       "      <td>27</td>\n",
       "      <td>4</td>\n",
       "      <td>4</td>\n",
       "      <td>4</td>\n",
       "      <td>17</td>\n",
       "      <td>17</td>\n",
       "    </tr>\n",
       "    <tr>\n",
       "      <th>96</th>\n",
       "      <td>38</td>\n",
       "      <td>72</td>\n",
       "      <td>51</td>\n",
       "      <td>2</td>\n",
       "      <td>7</td>\n",
       "      <td>39</td>\n",
       "      <td>0</td>\n",
       "      <td>0</td>\n",
       "    </tr>\n",
       "    <tr>\n",
       "      <th>97</th>\n",
       "      <td>36</td>\n",
       "      <td>60</td>\n",
       "      <td>43</td>\n",
       "      <td>1</td>\n",
       "      <td>8</td>\n",
       "      <td>15</td>\n",
       "      <td>0</td>\n",
       "      <td>41</td>\n",
       "    </tr>\n",
       "    <tr>\n",
       "      <th>98</th>\n",
       "      <td>29</td>\n",
       "      <td>58</td>\n",
       "      <td>57</td>\n",
       "      <td>3</td>\n",
       "      <td>2</td>\n",
       "      <td>12</td>\n",
       "      <td>0</td>\n",
       "      <td>10</td>\n",
       "    </tr>\n",
       "  </tbody>\n",
       "</table>\n",
       "<p>99 rows × 8 columns</p>\n",
       "</div>"
      ],
      "text/plain": [
       "    Temparature  Humidity   Moisture  Soil Type  Crop Type  Nitrogen  \\\n",
       "0            26         52        38          1          1        37   \n",
       "1            29         52        45          2          2        12   \n",
       "2            34         65        62          3          3         7   \n",
       "3            32         62        34          4          4        22   \n",
       "4            28         54        46          5          5        35   \n",
       "..          ...        ...       ...        ...        ...       ...   \n",
       "94           25         50        32          5         10        24   \n",
       "95           30         60        27          4          4         4   \n",
       "96           38         72        51          2          7        39   \n",
       "97           36         60        43          1          8        15   \n",
       "98           29         58        57          3          2        12   \n",
       "\n",
       "    Potassium  Phosphorous  \n",
       "0           0            0  \n",
       "1           0           36  \n",
       "2           9           30  \n",
       "3           0           20  \n",
       "4           0            0  \n",
       "..        ...          ...  \n",
       "94          0           19  \n",
       "95         17           17  \n",
       "96          0            0  \n",
       "97          0           41  \n",
       "98          0           10  \n",
       "\n",
       "[99 rows x 8 columns]"
      ]
     },
     "execution_count": 99,
     "metadata": {},
     "output_type": "execute_result"
    }
   ],
   "source": [
    "x"
   ]
  },
  {
   "cell_type": "code",
   "execution_count": 100,
   "id": "bridal-stockholm",
   "metadata": {},
   "outputs": [],
   "source": [
    "y_up=y_data.tolist()"
   ]
  },
  {
   "cell_type": "code",
   "execution_count": 101,
   "id": "seeing-broadcasting",
   "metadata": {},
   "outputs": [
    {
     "data": {
      "text/plain": [
       "['Urea',\n",
       " 'DAP',\n",
       " '14-35-14',\n",
       " '28-28',\n",
       " 'Urea',\n",
       " '17-17-17',\n",
       " '20-20',\n",
       " 'Urea',\n",
       " '28-28',\n",
       " '14-35-14',\n",
       " 'DAP',\n",
       " '17-17-17',\n",
       " 'Urea',\n",
       " '28-28',\n",
       " 'DAP',\n",
       " '17-17-17',\n",
       " 'Urea',\n",
       " '28-28',\n",
       " 'Urea',\n",
       " 'DAP',\n",
       " '20-20',\n",
       " '17-17-17',\n",
       " 'DAP',\n",
       " 'Urea',\n",
       " '20-20',\n",
       " '28-28',\n",
       " '14-35-14',\n",
       " 'Urea',\n",
       " 'DAP',\n",
       " '20-20',\n",
       " '28-28',\n",
       " 'DAP',\n",
       " 'Urea',\n",
       " '14-35-14',\n",
       " '28-28',\n",
       " 'Urea',\n",
       " '14-35-14',\n",
       " 'DAP',\n",
       " '17-17-17',\n",
       " 'DAP',\n",
       " '20-20',\n",
       " '14-35-14',\n",
       " '28-28',\n",
       " 'Urea',\n",
       " 'DAP',\n",
       " '14-35-14',\n",
       " '20-20',\n",
       " '28-28',\n",
       " 'Urea',\n",
       " '14-35-14',\n",
       " '28-28',\n",
       " '20-20',\n",
       " 'Urea',\n",
       " 'DAP',\n",
       " '17-17-17',\n",
       " '28-28',\n",
       " 'Urea',\n",
       " '20-20',\n",
       " '17-17-17',\n",
       " 'DAP',\n",
       " 'Urea',\n",
       " '20-20',\n",
       " '28-28',\n",
       " '10-26-26',\n",
       " 'Urea',\n",
       " 'DAP',\n",
       " '20-20',\n",
       " '14-35-14',\n",
       " '10-26-26',\n",
       " '20-20',\n",
       " '28-28',\n",
       " 'Urea',\n",
       " '28-28',\n",
       " 'Urea',\n",
       " 'DAP',\n",
       " '14-35-14',\n",
       " '28-28',\n",
       " '20-20',\n",
       " '10-26-26',\n",
       " 'DAP',\n",
       " '14-35-14',\n",
       " 'Urea',\n",
       " 'DAP',\n",
       " '20-20',\n",
       " '28-28',\n",
       " '14-35-14',\n",
       " '10-26-26',\n",
       " 'Urea',\n",
       " '10-26-26',\n",
       " 'DAP',\n",
       " '14-35-14',\n",
       " '10-26-26',\n",
       " 'Urea',\n",
       " '14-35-14',\n",
       " '28-28',\n",
       " '10-26-26',\n",
       " 'Urea',\n",
       " 'DAP',\n",
       " '20-20']"
      ]
     },
     "execution_count": 101,
     "metadata": {},
     "output_type": "execute_result"
    }
   ],
   "source": [
    "y_up"
   ]
  },
  {
   "cell_type": "code",
   "execution_count": 102,
   "id": "marked-stockholm",
   "metadata": {},
   "outputs": [],
   "source": [
    "y_in=y_data.unique()"
   ]
  },
  {
   "cell_type": "code",
   "execution_count": 103,
   "id": "polished-mainland",
   "metadata": {
    "scrolled": true
   },
   "outputs": [
    {
     "data": {
      "text/plain": [
       "array(['Urea', 'DAP', '14-35-14', '28-28', '17-17-17', '20-20',\n",
       "       '10-26-26'], dtype=object)"
      ]
     },
     "execution_count": 103,
     "metadata": {},
     "output_type": "execute_result"
    }
   ],
   "source": [
    "y_in"
   ]
  },
  {
   "cell_type": "code",
   "execution_count": 104,
   "id": "virtual-stretch",
   "metadata": {},
   "outputs": [
    {
     "data": {
      "text/plain": [
       "7"
      ]
     },
     "execution_count": 104,
     "metadata": {},
     "output_type": "execute_result"
    }
   ],
   "source": [
    "y_in.shape[0]"
   ]
  },
  {
   "cell_type": "code",
   "execution_count": 105,
   "id": "bibliographic-toddler",
   "metadata": {},
   "outputs": [],
   "source": [
    "label_map={label:num for num,label in enumerate(y_in)}"
   ]
  },
  {
   "cell_type": "code",
   "execution_count": 106,
   "id": "arctic-spanish",
   "metadata": {},
   "outputs": [
    {
     "data": {
      "text/plain": [
       "{'Urea': 0,\n",
       " 'DAP': 1,\n",
       " '14-35-14': 2,\n",
       " '28-28': 3,\n",
       " '17-17-17': 4,\n",
       " '20-20': 5,\n",
       " '10-26-26': 6}"
      ]
     },
     "execution_count": 106,
     "metadata": {},
     "output_type": "execute_result"
    }
   ],
   "source": [
    "label_map"
   ]
  },
  {
   "cell_type": "code",
   "execution_count": 107,
   "id": "soviet-pavilion",
   "metadata": {},
   "outputs": [],
   "source": [
    "y_new=[]\n",
    "for i in y_up:\n",
    "    y_new.append(label_map[i])"
   ]
  },
  {
   "cell_type": "code",
   "execution_count": 108,
   "id": "amber-swing",
   "metadata": {},
   "outputs": [],
   "source": [
    "y=to_categorical(y_new).astype(int)"
   ]
  },
  {
   "cell_type": "code",
   "execution_count": 109,
   "id": "pediatric-grammar",
   "metadata": {
    "scrolled": false
   },
   "outputs": [
    {
     "data": {
      "text/plain": [
       "array([[1, 0, 0, 0, 0, 0, 0],\n",
       "       [0, 1, 0, 0, 0, 0, 0],\n",
       "       [0, 0, 1, 0, 0, 0, 0],\n",
       "       [0, 0, 0, 1, 0, 0, 0],\n",
       "       [1, 0, 0, 0, 0, 0, 0],\n",
       "       [0, 0, 0, 0, 1, 0, 0],\n",
       "       [0, 0, 0, 0, 0, 1, 0],\n",
       "       [1, 0, 0, 0, 0, 0, 0],\n",
       "       [0, 0, 0, 1, 0, 0, 0],\n",
       "       [0, 0, 1, 0, 0, 0, 0],\n",
       "       [0, 1, 0, 0, 0, 0, 0],\n",
       "       [0, 0, 0, 0, 1, 0, 0],\n",
       "       [1, 0, 0, 0, 0, 0, 0],\n",
       "       [0, 0, 0, 1, 0, 0, 0],\n",
       "       [0, 1, 0, 0, 0, 0, 0],\n",
       "       [0, 0, 0, 0, 1, 0, 0],\n",
       "       [1, 0, 0, 0, 0, 0, 0],\n",
       "       [0, 0, 0, 1, 0, 0, 0],\n",
       "       [1, 0, 0, 0, 0, 0, 0],\n",
       "       [0, 1, 0, 0, 0, 0, 0],\n",
       "       [0, 0, 0, 0, 0, 1, 0],\n",
       "       [0, 0, 0, 0, 1, 0, 0],\n",
       "       [0, 1, 0, 0, 0, 0, 0],\n",
       "       [1, 0, 0, 0, 0, 0, 0],\n",
       "       [0, 0, 0, 0, 0, 1, 0],\n",
       "       [0, 0, 0, 1, 0, 0, 0],\n",
       "       [0, 0, 1, 0, 0, 0, 0],\n",
       "       [1, 0, 0, 0, 0, 0, 0],\n",
       "       [0, 1, 0, 0, 0, 0, 0],\n",
       "       [0, 0, 0, 0, 0, 1, 0],\n",
       "       [0, 0, 0, 1, 0, 0, 0],\n",
       "       [0, 1, 0, 0, 0, 0, 0],\n",
       "       [1, 0, 0, 0, 0, 0, 0],\n",
       "       [0, 0, 1, 0, 0, 0, 0],\n",
       "       [0, 0, 0, 1, 0, 0, 0],\n",
       "       [1, 0, 0, 0, 0, 0, 0],\n",
       "       [0, 0, 1, 0, 0, 0, 0],\n",
       "       [0, 1, 0, 0, 0, 0, 0],\n",
       "       [0, 0, 0, 0, 1, 0, 0],\n",
       "       [0, 1, 0, 0, 0, 0, 0],\n",
       "       [0, 0, 0, 0, 0, 1, 0],\n",
       "       [0, 0, 1, 0, 0, 0, 0],\n",
       "       [0, 0, 0, 1, 0, 0, 0],\n",
       "       [1, 0, 0, 0, 0, 0, 0],\n",
       "       [0, 1, 0, 0, 0, 0, 0],\n",
       "       [0, 0, 1, 0, 0, 0, 0],\n",
       "       [0, 0, 0, 0, 0, 1, 0],\n",
       "       [0, 0, 0, 1, 0, 0, 0],\n",
       "       [1, 0, 0, 0, 0, 0, 0],\n",
       "       [0, 0, 1, 0, 0, 0, 0],\n",
       "       [0, 0, 0, 1, 0, 0, 0],\n",
       "       [0, 0, 0, 0, 0, 1, 0],\n",
       "       [1, 0, 0, 0, 0, 0, 0],\n",
       "       [0, 1, 0, 0, 0, 0, 0],\n",
       "       [0, 0, 0, 0, 1, 0, 0],\n",
       "       [0, 0, 0, 1, 0, 0, 0],\n",
       "       [1, 0, 0, 0, 0, 0, 0],\n",
       "       [0, 0, 0, 0, 0, 1, 0],\n",
       "       [0, 0, 0, 0, 1, 0, 0],\n",
       "       [0, 1, 0, 0, 0, 0, 0],\n",
       "       [1, 0, 0, 0, 0, 0, 0],\n",
       "       [0, 0, 0, 0, 0, 1, 0],\n",
       "       [0, 0, 0, 1, 0, 0, 0],\n",
       "       [0, 0, 0, 0, 0, 0, 1],\n",
       "       [1, 0, 0, 0, 0, 0, 0],\n",
       "       [0, 1, 0, 0, 0, 0, 0],\n",
       "       [0, 0, 0, 0, 0, 1, 0],\n",
       "       [0, 0, 1, 0, 0, 0, 0],\n",
       "       [0, 0, 0, 0, 0, 0, 1],\n",
       "       [0, 0, 0, 0, 0, 1, 0],\n",
       "       [0, 0, 0, 1, 0, 0, 0],\n",
       "       [1, 0, 0, 0, 0, 0, 0],\n",
       "       [0, 0, 0, 1, 0, 0, 0],\n",
       "       [1, 0, 0, 0, 0, 0, 0],\n",
       "       [0, 1, 0, 0, 0, 0, 0],\n",
       "       [0, 0, 1, 0, 0, 0, 0],\n",
       "       [0, 0, 0, 1, 0, 0, 0],\n",
       "       [0, 0, 0, 0, 0, 1, 0],\n",
       "       [0, 0, 0, 0, 0, 0, 1],\n",
       "       [0, 1, 0, 0, 0, 0, 0],\n",
       "       [0, 0, 1, 0, 0, 0, 0],\n",
       "       [1, 0, 0, 0, 0, 0, 0],\n",
       "       [0, 1, 0, 0, 0, 0, 0],\n",
       "       [0, 0, 0, 0, 0, 1, 0],\n",
       "       [0, 0, 0, 1, 0, 0, 0],\n",
       "       [0, 0, 1, 0, 0, 0, 0],\n",
       "       [0, 0, 0, 0, 0, 0, 1],\n",
       "       [1, 0, 0, 0, 0, 0, 0],\n",
       "       [0, 0, 0, 0, 0, 0, 1],\n",
       "       [0, 1, 0, 0, 0, 0, 0],\n",
       "       [0, 0, 1, 0, 0, 0, 0],\n",
       "       [0, 0, 0, 0, 0, 0, 1],\n",
       "       [1, 0, 0, 0, 0, 0, 0],\n",
       "       [0, 0, 1, 0, 0, 0, 0],\n",
       "       [0, 0, 0, 1, 0, 0, 0],\n",
       "       [0, 0, 0, 0, 0, 0, 1],\n",
       "       [1, 0, 0, 0, 0, 0, 0],\n",
       "       [0, 1, 0, 0, 0, 0, 0],\n",
       "       [0, 0, 0, 0, 0, 1, 0]])"
      ]
     },
     "execution_count": 109,
     "metadata": {},
     "output_type": "execute_result"
    }
   ],
   "source": [
    "y"
   ]
  },
  {
   "cell_type": "code",
   "execution_count": 110,
   "id": "touched-resort",
   "metadata": {},
   "outputs": [
    {
     "data": {
      "text/html": [
       "<div>\n",
       "<style scoped>\n",
       "    .dataframe tbody tr th:only-of-type {\n",
       "        vertical-align: middle;\n",
       "    }\n",
       "\n",
       "    .dataframe tbody tr th {\n",
       "        vertical-align: top;\n",
       "    }\n",
       "\n",
       "    .dataframe thead th {\n",
       "        text-align: right;\n",
       "    }\n",
       "</style>\n",
       "<table border=\"1\" class=\"dataframe\">\n",
       "  <thead>\n",
       "    <tr style=\"text-align: right;\">\n",
       "      <th></th>\n",
       "      <th>Temparature</th>\n",
       "      <th>Humidity</th>\n",
       "      <th>Moisture</th>\n",
       "      <th>Soil Type</th>\n",
       "      <th>Crop Type</th>\n",
       "      <th>Nitrogen</th>\n",
       "      <th>Potassium</th>\n",
       "      <th>Phosphorous</th>\n",
       "    </tr>\n",
       "  </thead>\n",
       "  <tbody>\n",
       "    <tr>\n",
       "      <th>0</th>\n",
       "      <td>26</td>\n",
       "      <td>52</td>\n",
       "      <td>38</td>\n",
       "      <td>1</td>\n",
       "      <td>1</td>\n",
       "      <td>37</td>\n",
       "      <td>0</td>\n",
       "      <td>0</td>\n",
       "    </tr>\n",
       "    <tr>\n",
       "      <th>1</th>\n",
       "      <td>29</td>\n",
       "      <td>52</td>\n",
       "      <td>45</td>\n",
       "      <td>2</td>\n",
       "      <td>2</td>\n",
       "      <td>12</td>\n",
       "      <td>0</td>\n",
       "      <td>36</td>\n",
       "    </tr>\n",
       "    <tr>\n",
       "      <th>2</th>\n",
       "      <td>34</td>\n",
       "      <td>65</td>\n",
       "      <td>62</td>\n",
       "      <td>3</td>\n",
       "      <td>3</td>\n",
       "      <td>7</td>\n",
       "      <td>9</td>\n",
       "      <td>30</td>\n",
       "    </tr>\n",
       "    <tr>\n",
       "      <th>3</th>\n",
       "      <td>32</td>\n",
       "      <td>62</td>\n",
       "      <td>34</td>\n",
       "      <td>4</td>\n",
       "      <td>4</td>\n",
       "      <td>22</td>\n",
       "      <td>0</td>\n",
       "      <td>20</td>\n",
       "    </tr>\n",
       "    <tr>\n",
       "      <th>4</th>\n",
       "      <td>28</td>\n",
       "      <td>54</td>\n",
       "      <td>46</td>\n",
       "      <td>5</td>\n",
       "      <td>5</td>\n",
       "      <td>35</td>\n",
       "      <td>0</td>\n",
       "      <td>0</td>\n",
       "    </tr>\n",
       "    <tr>\n",
       "      <th>...</th>\n",
       "      <td>...</td>\n",
       "      <td>...</td>\n",
       "      <td>...</td>\n",
       "      <td>...</td>\n",
       "      <td>...</td>\n",
       "      <td>...</td>\n",
       "      <td>...</td>\n",
       "      <td>...</td>\n",
       "    </tr>\n",
       "    <tr>\n",
       "      <th>94</th>\n",
       "      <td>25</td>\n",
       "      <td>50</td>\n",
       "      <td>32</td>\n",
       "      <td>5</td>\n",
       "      <td>10</td>\n",
       "      <td>24</td>\n",
       "      <td>0</td>\n",
       "      <td>19</td>\n",
       "    </tr>\n",
       "    <tr>\n",
       "      <th>95</th>\n",
       "      <td>30</td>\n",
       "      <td>60</td>\n",
       "      <td>27</td>\n",
       "      <td>4</td>\n",
       "      <td>4</td>\n",
       "      <td>4</td>\n",
       "      <td>17</td>\n",
       "      <td>17</td>\n",
       "    </tr>\n",
       "    <tr>\n",
       "      <th>96</th>\n",
       "      <td>38</td>\n",
       "      <td>72</td>\n",
       "      <td>51</td>\n",
       "      <td>2</td>\n",
       "      <td>7</td>\n",
       "      <td>39</td>\n",
       "      <td>0</td>\n",
       "      <td>0</td>\n",
       "    </tr>\n",
       "    <tr>\n",
       "      <th>97</th>\n",
       "      <td>36</td>\n",
       "      <td>60</td>\n",
       "      <td>43</td>\n",
       "      <td>1</td>\n",
       "      <td>8</td>\n",
       "      <td>15</td>\n",
       "      <td>0</td>\n",
       "      <td>41</td>\n",
       "    </tr>\n",
       "    <tr>\n",
       "      <th>98</th>\n",
       "      <td>29</td>\n",
       "      <td>58</td>\n",
       "      <td>57</td>\n",
       "      <td>3</td>\n",
       "      <td>2</td>\n",
       "      <td>12</td>\n",
       "      <td>0</td>\n",
       "      <td>10</td>\n",
       "    </tr>\n",
       "  </tbody>\n",
       "</table>\n",
       "<p>99 rows × 8 columns</p>\n",
       "</div>"
      ],
      "text/plain": [
       "    Temparature  Humidity   Moisture  Soil Type  Crop Type  Nitrogen  \\\n",
       "0            26         52        38          1          1        37   \n",
       "1            29         52        45          2          2        12   \n",
       "2            34         65        62          3          3         7   \n",
       "3            32         62        34          4          4        22   \n",
       "4            28         54        46          5          5        35   \n",
       "..          ...        ...       ...        ...        ...       ...   \n",
       "94           25         50        32          5         10        24   \n",
       "95           30         60        27          4          4         4   \n",
       "96           38         72        51          2          7        39   \n",
       "97           36         60        43          1          8        15   \n",
       "98           29         58        57          3          2        12   \n",
       "\n",
       "    Potassium  Phosphorous  \n",
       "0           0            0  \n",
       "1           0           36  \n",
       "2           9           30  \n",
       "3           0           20  \n",
       "4           0            0  \n",
       "..        ...          ...  \n",
       "94          0           19  \n",
       "95         17           17  \n",
       "96          0            0  \n",
       "97          0           41  \n",
       "98          0           10  \n",
       "\n",
       "[99 rows x 8 columns]"
      ]
     },
     "execution_count": 110,
     "metadata": {},
     "output_type": "execute_result"
    }
   ],
   "source": [
    "x"
   ]
  },
  {
   "cell_type": "code",
   "execution_count": 111,
   "id": "widespread-toner",
   "metadata": {},
   "outputs": [],
   "source": [
    "from sklearn.model_selection import train_test_split\n",
    "x_train,x_test,y_train,y_test=train_test_split(x,y)"
   ]
  },
  {
   "cell_type": "code",
   "execution_count": 112,
   "id": "resistant-interpretation",
   "metadata": {
    "scrolled": true
   },
   "outputs": [
    {
     "data": {
      "text/plain": [
       "(74, 8)"
      ]
     },
     "execution_count": 112,
     "metadata": {},
     "output_type": "execute_result"
    }
   ],
   "source": [
    "x_train.shape"
   ]
  },
  {
   "cell_type": "code",
   "execution_count": 114,
   "id": "separate-wealth",
   "metadata": {},
   "outputs": [],
   "source": [
    "from tensorflow.keras.models import Sequential,load_model\n",
    "from tensorflow.keras.layers import LSTM, Dense, Dropout,Normalization"
   ]
  },
  {
   "cell_type": "code",
   "execution_count": 115,
   "id": "supported-torture",
   "metadata": {},
   "outputs": [],
   "source": [
    "model=Sequential([\n",
    "    Dense(10,input_shape=(8,),activation='relu'),\n",
    "    Dropout(0.1),\n",
    "    Dense(y_in.shape[0],activation='softmax')\n",
    "])\n"
   ]
  },
  {
   "cell_type": "code",
   "execution_count": 116,
   "id": "arranged-rebate",
   "metadata": {},
   "outputs": [],
   "source": [
    "model.compile(optimizer='Adam',loss='categorical_crossentropy',metrics=['categorical_accuracy'])"
   ]
  },
  {
   "cell_type": "code",
   "execution_count": 154,
   "id": "favorite-sentence",
   "metadata": {},
   "outputs": [
    {
     "name": "stdout",
     "output_type": "stream",
     "text": [
      "Epoch 1/470\n",
      "3/3 [==============================] - 0s 96ms/step - loss: 0.5295 - categorical_accuracy: 0.8649 - val_loss: 0.4920 - val_categorical_accuracy: 0.8800\n",
      "Epoch 2/470\n",
      "3/3 [==============================] - 0s 52ms/step - loss: 0.4794 - categorical_accuracy: 0.8919 - val_loss: 0.4975 - val_categorical_accuracy: 0.8800\n",
      "Epoch 3/470\n",
      "3/3 [==============================] - 0s 57ms/step - loss: 0.5871 - categorical_accuracy: 0.8243 - val_loss: 0.5021 - val_categorical_accuracy: 0.8800\n",
      "Epoch 4/470\n",
      "3/3 [==============================] - 0s 45ms/step - loss: 0.4739 - categorical_accuracy: 0.8378 - val_loss: 0.5042 - val_categorical_accuracy: 0.8800\n",
      "Epoch 5/470\n",
      "3/3 [==============================] - 0s 49ms/step - loss: 0.4024 - categorical_accuracy: 0.9054 - val_loss: 0.5104 - val_categorical_accuracy: 0.8800\n",
      "Epoch 6/470\n",
      "3/3 [==============================] - 0s 48ms/step - loss: 0.4532 - categorical_accuracy: 0.8784 - val_loss: 0.5227 - val_categorical_accuracy: 0.8800\n",
      "Epoch 7/470\n",
      "3/3 [==============================] - 0s 48ms/step - loss: 0.4480 - categorical_accuracy: 0.8919 - val_loss: 0.5232 - val_categorical_accuracy: 0.8800\n",
      "Epoch 8/470\n",
      "3/3 [==============================] - 0s 49ms/step - loss: 0.5706 - categorical_accuracy: 0.8378 - val_loss: 0.5283 - val_categorical_accuracy: 0.8800\n",
      "Epoch 9/470\n",
      "3/3 [==============================] - 0s 52ms/step - loss: 0.4134 - categorical_accuracy: 0.8919 - val_loss: 0.5453 - val_categorical_accuracy: 0.8800\n",
      "Epoch 10/470\n",
      "3/3 [==============================] - 0s 73ms/step - loss: 0.3988 - categorical_accuracy: 0.8649 - val_loss: 0.5501 - val_categorical_accuracy: 0.8800\n",
      "Epoch 11/470\n",
      "3/3 [==============================] - 0s 56ms/step - loss: 0.4396 - categorical_accuracy: 0.8919 - val_loss: 0.5452 - val_categorical_accuracy: 0.8800\n",
      "Epoch 12/470\n",
      "3/3 [==============================] - 0s 50ms/step - loss: 0.5064 - categorical_accuracy: 0.8378 - val_loss: 0.5384 - val_categorical_accuracy: 0.8800\n",
      "Epoch 13/470\n",
      "3/3 [==============================] - 0s 50ms/step - loss: 0.4343 - categorical_accuracy: 0.9054 - val_loss: 0.5272 - val_categorical_accuracy: 0.8800\n",
      "Epoch 14/470\n",
      "3/3 [==============================] - 0s 49ms/step - loss: 0.4560 - categorical_accuracy: 0.8514 - val_loss: 0.5147 - val_categorical_accuracy: 0.8800\n",
      "Epoch 15/470\n",
      "3/3 [==============================] - 0s 48ms/step - loss: 0.5181 - categorical_accuracy: 0.8514 - val_loss: 0.5062 - val_categorical_accuracy: 0.8800\n",
      "Epoch 16/470\n",
      "3/3 [==============================] - 0s 55ms/step - loss: 0.4601 - categorical_accuracy: 0.9054 - val_loss: 0.5002 - val_categorical_accuracy: 0.8800\n",
      "Epoch 17/470\n",
      "3/3 [==============================] - 0s 72ms/step - loss: 0.4247 - categorical_accuracy: 0.8784 - val_loss: 0.4940 - val_categorical_accuracy: 0.8800\n",
      "Epoch 18/470\n",
      "3/3 [==============================] - 0s 73ms/step - loss: 0.4469 - categorical_accuracy: 0.8649 - val_loss: 0.4874 - val_categorical_accuracy: 0.8800\n",
      "Epoch 19/470\n",
      "3/3 [==============================] - 0s 61ms/step - loss: 0.4369 - categorical_accuracy: 0.9054 - val_loss: 0.4776 - val_categorical_accuracy: 0.8800\n",
      "Epoch 20/470\n",
      "3/3 [==============================] - 0s 53ms/step - loss: 0.3053 - categorical_accuracy: 0.9595 - val_loss: 0.4654 - val_categorical_accuracy: 0.8800\n",
      "Epoch 21/470\n",
      "3/3 [==============================] - 0s 52ms/step - loss: 0.3173 - categorical_accuracy: 0.9459 - val_loss: 0.4527 - val_categorical_accuracy: 0.9200\n",
      "Epoch 22/470\n",
      "3/3 [==============================] - 0s 56ms/step - loss: 0.4185 - categorical_accuracy: 0.9054 - val_loss: 0.4426 - val_categorical_accuracy: 0.9200\n",
      "Epoch 23/470\n",
      "3/3 [==============================] - 0s 50ms/step - loss: 0.4753 - categorical_accuracy: 0.8514 - val_loss: 0.4396 - val_categorical_accuracy: 0.9200\n",
      "Epoch 24/470\n",
      "3/3 [==============================] - 0s 53ms/step - loss: 0.3874 - categorical_accuracy: 0.9189 - val_loss: 0.4373 - val_categorical_accuracy: 0.9200\n",
      "Epoch 25/470\n",
      "3/3 [==============================] - 0s 48ms/step - loss: 0.3419 - categorical_accuracy: 0.9459 - val_loss: 0.4359 - val_categorical_accuracy: 0.9200\n",
      "Epoch 26/470\n",
      "3/3 [==============================] - 0s 52ms/step - loss: 0.3381 - categorical_accuracy: 0.9324 - val_loss: 0.4357 - val_categorical_accuracy: 0.9200\n",
      "Epoch 27/470\n",
      "3/3 [==============================] - 0s 61ms/step - loss: 0.4788 - categorical_accuracy: 0.8514 - val_loss: 0.4410 - val_categorical_accuracy: 0.8800\n",
      "Epoch 28/470\n",
      "3/3 [==============================] - 0s 56ms/step - loss: 0.3869 - categorical_accuracy: 0.8919 - val_loss: 0.4515 - val_categorical_accuracy: 0.8800\n",
      "Epoch 29/470\n",
      "3/3 [==============================] - 0s 53ms/step - loss: 0.4408 - categorical_accuracy: 0.8649 - val_loss: 0.4597 - val_categorical_accuracy: 0.8800\n",
      "Epoch 30/470\n",
      "3/3 [==============================] - 0s 52ms/step - loss: 0.4308 - categorical_accuracy: 0.8919 - val_loss: 0.4681 - val_categorical_accuracy: 0.8800\n",
      "Epoch 31/470\n",
      "3/3 [==============================] - 0s 54ms/step - loss: 0.3876 - categorical_accuracy: 0.8919 - val_loss: 0.4708 - val_categorical_accuracy: 0.8800\n",
      "Epoch 32/470\n",
      "3/3 [==============================] - 0s 51ms/step - loss: 0.3956 - categorical_accuracy: 0.9189 - val_loss: 0.4695 - val_categorical_accuracy: 0.8800\n",
      "Epoch 33/470\n",
      "3/3 [==============================] - 0s 53ms/step - loss: 0.3892 - categorical_accuracy: 0.9189 - val_loss: 0.4678 - val_categorical_accuracy: 0.8800\n",
      "Epoch 34/470\n",
      "3/3 [==============================] - 0s 54ms/step - loss: 0.3017 - categorical_accuracy: 0.9595 - val_loss: 0.4571 - val_categorical_accuracy: 0.8800\n",
      "Epoch 35/470\n",
      "3/3 [==============================] - 0s 54ms/step - loss: 0.3048 - categorical_accuracy: 0.9324 - val_loss: 0.4440 - val_categorical_accuracy: 0.8800\n",
      "Epoch 36/470\n",
      "3/3 [==============================] - 0s 50ms/step - loss: 0.3444 - categorical_accuracy: 0.9054 - val_loss: 0.4329 - val_categorical_accuracy: 0.8800\n",
      "Epoch 37/470\n",
      "3/3 [==============================] - 0s 50ms/step - loss: 0.3798 - categorical_accuracy: 0.9189 - val_loss: 0.4258 - val_categorical_accuracy: 0.8800\n",
      "Epoch 38/470\n",
      "3/3 [==============================] - 0s 50ms/step - loss: 0.5547 - categorical_accuracy: 0.8649 - val_loss: 0.4225 - val_categorical_accuracy: 0.8800\n",
      "Epoch 39/470\n",
      "3/3 [==============================] - 0s 50ms/step - loss: 0.3790 - categorical_accuracy: 0.9324 - val_loss: 0.4178 - val_categorical_accuracy: 0.8800\n",
      "Epoch 40/470\n",
      "3/3 [==============================] - 0s 51ms/step - loss: 0.4748 - categorical_accuracy: 0.8784 - val_loss: 0.4137 - val_categorical_accuracy: 0.9200\n",
      "Epoch 41/470\n",
      "3/3 [==============================] - 0s 53ms/step - loss: 0.4855 - categorical_accuracy: 0.8514 - val_loss: 0.4160 - val_categorical_accuracy: 0.9200\n",
      "Epoch 42/470\n",
      "3/3 [==============================] - 0s 55ms/step - loss: 0.4323 - categorical_accuracy: 0.8649 - val_loss: 0.4212 - val_categorical_accuracy: 0.9200\n",
      "Epoch 43/470\n",
      "3/3 [==============================] - 0s 62ms/step - loss: 0.4210 - categorical_accuracy: 0.8784 - val_loss: 0.4286 - val_categorical_accuracy: 0.8800\n",
      "Epoch 44/470\n",
      "3/3 [==============================] - 0s 63ms/step - loss: 0.3901 - categorical_accuracy: 0.8919 - val_loss: 0.4335 - val_categorical_accuracy: 0.8800\n",
      "Epoch 45/470\n",
      "3/3 [==============================] - 0s 50ms/step - loss: 0.5551 - categorical_accuracy: 0.8378 - val_loss: 0.4390 - val_categorical_accuracy: 0.8800\n",
      "Epoch 46/470\n",
      "3/3 [==============================] - 0s 50ms/step - loss: 0.3065 - categorical_accuracy: 0.9459 - val_loss: 0.4406 - val_categorical_accuracy: 0.8800\n",
      "Epoch 47/470\n",
      "3/3 [==============================] - 0s 51ms/step - loss: 0.3651 - categorical_accuracy: 0.9189 - val_loss: 0.4424 - val_categorical_accuracy: 0.8800\n",
      "Epoch 48/470\n",
      "3/3 [==============================] - 0s 51ms/step - loss: 0.2842 - categorical_accuracy: 0.9459 - val_loss: 0.4438 - val_categorical_accuracy: 0.8800\n",
      "Epoch 49/470\n",
      "3/3 [==============================] - 0s 50ms/step - loss: 0.4301 - categorical_accuracy: 0.8784 - val_loss: 0.4431 - val_categorical_accuracy: 0.8800\n",
      "Epoch 50/470\n",
      "3/3 [==============================] - 0s 50ms/step - loss: 0.4937 - categorical_accuracy: 0.8243 - val_loss: 0.4446 - val_categorical_accuracy: 0.8800\n"
     ]
    },
    {
     "name": "stdout",
     "output_type": "stream",
     "text": [
      "Epoch 51/470\n",
      "3/3 [==============================] - 0s 53ms/step - loss: 0.3232 - categorical_accuracy: 0.9054 - val_loss: 0.4429 - val_categorical_accuracy: 0.8800\n",
      "Epoch 52/470\n",
      "3/3 [==============================] - 0s 50ms/step - loss: 0.3828 - categorical_accuracy: 0.8649 - val_loss: 0.4373 - val_categorical_accuracy: 0.9200\n",
      "Epoch 53/470\n",
      "3/3 [==============================] - 0s 50ms/step - loss: 0.4786 - categorical_accuracy: 0.8784 - val_loss: 0.4339 - val_categorical_accuracy: 0.9200\n",
      "Epoch 54/470\n",
      "3/3 [==============================] - 0s 48ms/step - loss: 0.3544 - categorical_accuracy: 0.9324 - val_loss: 0.4310 - val_categorical_accuracy: 0.9200\n",
      "Epoch 55/470\n",
      "3/3 [==============================] - 0s 50ms/step - loss: 0.4206 - categorical_accuracy: 0.8919 - val_loss: 0.4253 - val_categorical_accuracy: 0.9200\n",
      "Epoch 56/470\n",
      "3/3 [==============================] - 0s 50ms/step - loss: 0.4544 - categorical_accuracy: 0.8514 - val_loss: 0.4176 - val_categorical_accuracy: 0.9200\n",
      "Epoch 57/470\n",
      "3/3 [==============================] - 0s 54ms/step - loss: 0.4773 - categorical_accuracy: 0.8514 - val_loss: 0.4154 - val_categorical_accuracy: 0.9200\n",
      "Epoch 58/470\n",
      "3/3 [==============================] - 0s 52ms/step - loss: 0.3181 - categorical_accuracy: 0.9324 - val_loss: 0.4113 - val_categorical_accuracy: 0.9200\n",
      "Epoch 59/470\n",
      "3/3 [==============================] - 0s 51ms/step - loss: 0.3932 - categorical_accuracy: 0.8919 - val_loss: 0.4107 - val_categorical_accuracy: 0.9200\n",
      "Epoch 60/470\n",
      "3/3 [==============================] - 0s 52ms/step - loss: 0.3260 - categorical_accuracy: 0.9054 - val_loss: 0.4101 - val_categorical_accuracy: 0.9200\n",
      "Epoch 61/470\n",
      "3/3 [==============================] - 0s 51ms/step - loss: 0.4250 - categorical_accuracy: 0.8243 - val_loss: 0.4105 - val_categorical_accuracy: 0.9200\n",
      "Epoch 62/470\n",
      "3/3 [==============================] - 0s 53ms/step - loss: 0.5455 - categorical_accuracy: 0.8243 - val_loss: 0.4164 - val_categorical_accuracy: 0.9200\n",
      "Epoch 63/470\n",
      "3/3 [==============================] - 0s 55ms/step - loss: 0.4434 - categorical_accuracy: 0.8784 - val_loss: 0.4211 - val_categorical_accuracy: 0.9200\n",
      "Epoch 64/470\n",
      "3/3 [==============================] - 0s 54ms/step - loss: 0.4508 - categorical_accuracy: 0.8514 - val_loss: 0.4258 - val_categorical_accuracy: 0.9200\n",
      "Epoch 65/470\n",
      "3/3 [==============================] - 0s 53ms/step - loss: 0.3659 - categorical_accuracy: 0.9324 - val_loss: 0.4287 - val_categorical_accuracy: 0.9200\n",
      "Epoch 66/470\n",
      "3/3 [==============================] - 0s 50ms/step - loss: 0.3250 - categorical_accuracy: 0.9324 - val_loss: 0.4282 - val_categorical_accuracy: 0.9200\n",
      "Epoch 67/470\n",
      "3/3 [==============================] - 0s 46ms/step - loss: 0.2825 - categorical_accuracy: 0.9865 - val_loss: 0.4234 - val_categorical_accuracy: 0.9200\n",
      "Epoch 68/470\n",
      "3/3 [==============================] - 0s 52ms/step - loss: 0.3607 - categorical_accuracy: 0.8784 - val_loss: 0.4198 - val_categorical_accuracy: 0.9200\n",
      "Epoch 69/470\n",
      "3/3 [==============================] - 0s 46ms/step - loss: 0.5029 - categorical_accuracy: 0.8649 - val_loss: 0.4220 - val_categorical_accuracy: 0.9200\n",
      "Epoch 70/470\n",
      "3/3 [==============================] - 0s 51ms/step - loss: 0.4789 - categorical_accuracy: 0.9054 - val_loss: 0.4264 - val_categorical_accuracy: 0.8800\n",
      "Epoch 71/470\n",
      "3/3 [==============================] - 0s 50ms/step - loss: 0.4085 - categorical_accuracy: 0.9054 - val_loss: 0.4327 - val_categorical_accuracy: 0.8800\n",
      "Epoch 72/470\n",
      "3/3 [==============================] - 0s 47ms/step - loss: 0.3362 - categorical_accuracy: 0.9054 - val_loss: 0.4391 - val_categorical_accuracy: 0.8800\n",
      "Epoch 73/470\n",
      "3/3 [==============================] - 0s 52ms/step - loss: 0.4713 - categorical_accuracy: 0.8784 - val_loss: 0.4432 - val_categorical_accuracy: 0.8800\n",
      "Epoch 74/470\n",
      "3/3 [==============================] - 0s 65ms/step - loss: 0.2820 - categorical_accuracy: 0.9595 - val_loss: 0.4461 - val_categorical_accuracy: 0.8800\n",
      "Epoch 75/470\n",
      "3/3 [==============================] - 0s 55ms/step - loss: 0.4352 - categorical_accuracy: 0.8649 - val_loss: 0.4503 - val_categorical_accuracy: 0.8800\n",
      "Epoch 76/470\n",
      "3/3 [==============================] - 0s 49ms/step - loss: 0.3783 - categorical_accuracy: 0.8919 - val_loss: 0.4507 - val_categorical_accuracy: 0.8800\n",
      "Epoch 77/470\n",
      "3/3 [==============================] - 0s 48ms/step - loss: 0.5237 - categorical_accuracy: 0.8784 - val_loss: 0.4464 - val_categorical_accuracy: 0.8800\n",
      "Epoch 78/470\n",
      "3/3 [==============================] - 0s 48ms/step - loss: 0.3116 - categorical_accuracy: 0.9459 - val_loss: 0.4370 - val_categorical_accuracy: 0.8800\n",
      "Epoch 79/470\n",
      "3/3 [==============================] - 0s 48ms/step - loss: 0.4140 - categorical_accuracy: 0.9054 - val_loss: 0.4284 - val_categorical_accuracy: 0.9200\n",
      "Epoch 80/470\n",
      "3/3 [==============================] - 0s 55ms/step - loss: 0.3990 - categorical_accuracy: 0.8784 - val_loss: 0.4231 - val_categorical_accuracy: 0.9200\n",
      "Epoch 81/470\n",
      "3/3 [==============================] - 0s 50ms/step - loss: 0.2915 - categorical_accuracy: 0.9324 - val_loss: 0.4207 - val_categorical_accuracy: 0.9200\n",
      "Epoch 82/470\n",
      "3/3 [==============================] - 0s 50ms/step - loss: 0.4930 - categorical_accuracy: 0.8649 - val_loss: 0.4245 - val_categorical_accuracy: 0.9200\n",
      "Epoch 83/470\n",
      "3/3 [==============================] - 0s 49ms/step - loss: 0.4766 - categorical_accuracy: 0.8378 - val_loss: 0.4290 - val_categorical_accuracy: 0.9200\n",
      "Epoch 84/470\n",
      "3/3 [==============================] - 0s 54ms/step - loss: 0.4022 - categorical_accuracy: 0.8784 - val_loss: 0.4320 - val_categorical_accuracy: 0.9200\n",
      "Epoch 85/470\n",
      "3/3 [==============================] - 0s 68ms/step - loss: 0.4787 - categorical_accuracy: 0.8784 - val_loss: 0.4367 - val_categorical_accuracy: 0.8800\n",
      "Epoch 86/470\n",
      "3/3 [==============================] - 0s 59ms/step - loss: 0.3575 - categorical_accuracy: 0.9189 - val_loss: 0.4391 - val_categorical_accuracy: 0.8800\n",
      "Epoch 87/470\n",
      "3/3 [==============================] - 0s 53ms/step - loss: 0.4599 - categorical_accuracy: 0.8919 - val_loss: 0.4380 - val_categorical_accuracy: 0.9200\n",
      "Epoch 88/470\n",
      "3/3 [==============================] - 0s 49ms/step - loss: 0.4261 - categorical_accuracy: 0.8784 - val_loss: 0.4385 - val_categorical_accuracy: 0.9200\n",
      "Epoch 89/470\n",
      "3/3 [==============================] - 0s 49ms/step - loss: 0.3178 - categorical_accuracy: 0.9459 - val_loss: 0.4373 - val_categorical_accuracy: 0.9200\n",
      "Epoch 90/470\n",
      "3/3 [==============================] - 0s 52ms/step - loss: 0.3318 - categorical_accuracy: 0.9324 - val_loss: 0.4355 - val_categorical_accuracy: 0.9200\n",
      "Epoch 91/470\n",
      "3/3 [==============================] - 0s 57ms/step - loss: 0.3409 - categorical_accuracy: 0.9054 - val_loss: 0.4323 - val_categorical_accuracy: 0.9200\n",
      "Epoch 92/470\n",
      "3/3 [==============================] - 0s 61ms/step - loss: 0.3619 - categorical_accuracy: 0.9189 - val_loss: 0.4327 - val_categorical_accuracy: 0.8800\n",
      "Epoch 93/470\n",
      "3/3 [==============================] - 0s 53ms/step - loss: 0.4155 - categorical_accuracy: 0.8919 - val_loss: 0.4313 - val_categorical_accuracy: 0.8800\n",
      "Epoch 94/470\n",
      "3/3 [==============================] - 0s 55ms/step - loss: 0.5384 - categorical_accuracy: 0.8514 - val_loss: 0.4328 - val_categorical_accuracy: 0.8800\n",
      "Epoch 95/470\n",
      "3/3 [==============================] - 0s 52ms/step - loss: 0.3635 - categorical_accuracy: 0.9324 - val_loss: 0.4329 - val_categorical_accuracy: 0.8800\n",
      "Epoch 96/470\n",
      "3/3 [==============================] - 0s 47ms/step - loss: 0.4720 - categorical_accuracy: 0.8108 - val_loss: 0.4320 - val_categorical_accuracy: 0.8800\n",
      "Epoch 97/470\n",
      "3/3 [==============================] - 0s 55ms/step - loss: 0.3839 - categorical_accuracy: 0.9054 - val_loss: 0.4293 - val_categorical_accuracy: 0.8800\n",
      "Epoch 98/470\n",
      "3/3 [==============================] - 0s 59ms/step - loss: 0.3232 - categorical_accuracy: 0.9189 - val_loss: 0.4272 - val_categorical_accuracy: 0.8800\n",
      "Epoch 99/470\n",
      "3/3 [==============================] - 0s 55ms/step - loss: 0.3674 - categorical_accuracy: 0.8919 - val_loss: 0.4311 - val_categorical_accuracy: 0.8800\n",
      "Epoch 100/470\n",
      "3/3 [==============================] - 0s 50ms/step - loss: 0.3527 - categorical_accuracy: 0.9324 - val_loss: 0.4345 - val_categorical_accuracy: 0.8800\n"
     ]
    },
    {
     "name": "stdout",
     "output_type": "stream",
     "text": [
      "Epoch 101/470\n",
      "3/3 [==============================] - 0s 55ms/step - loss: 0.3143 - categorical_accuracy: 0.9324 - val_loss: 0.4333 - val_categorical_accuracy: 0.8800\n",
      "Epoch 102/470\n",
      "3/3 [==============================] - 0s 55ms/step - loss: 0.2570 - categorical_accuracy: 0.9595 - val_loss: 0.4267 - val_categorical_accuracy: 0.8800\n",
      "Epoch 103/470\n",
      "3/3 [==============================] - 0s 71ms/step - loss: 0.3745 - categorical_accuracy: 0.8919 - val_loss: 0.4241 - val_categorical_accuracy: 0.8800\n",
      "Epoch 104/470\n",
      "3/3 [==============================] - 0s 64ms/step - loss: 0.4176 - categorical_accuracy: 0.8649 - val_loss: 0.4182 - val_categorical_accuracy: 0.8800\n",
      "Epoch 105/470\n",
      "3/3 [==============================] - 0s 49ms/step - loss: 0.4468 - categorical_accuracy: 0.8784 - val_loss: 0.4102 - val_categorical_accuracy: 0.9200\n",
      "Epoch 106/470\n",
      "3/3 [==============================] - 0s 48ms/step - loss: 0.4235 - categorical_accuracy: 0.8514 - val_loss: 0.4077 - val_categorical_accuracy: 0.9200\n",
      "Epoch 107/470\n",
      "3/3 [==============================] - 0s 49ms/step - loss: 0.4203 - categorical_accuracy: 0.8919 - val_loss: 0.4092 - val_categorical_accuracy: 0.9200\n",
      "Epoch 108/470\n",
      "3/3 [==============================] - 0s 49ms/step - loss: 0.3331 - categorical_accuracy: 0.9324 - val_loss: 0.4095 - val_categorical_accuracy: 0.9200\n",
      "Epoch 109/470\n",
      "3/3 [==============================] - 0s 47ms/step - loss: 0.4225 - categorical_accuracy: 0.8649 - val_loss: 0.4121 - val_categorical_accuracy: 0.9200\n",
      "Epoch 110/470\n",
      "3/3 [==============================] - 0s 51ms/step - loss: 0.4097 - categorical_accuracy: 0.9054 - val_loss: 0.4163 - val_categorical_accuracy: 0.9200\n",
      "Epoch 111/470\n",
      "3/3 [==============================] - 0s 55ms/step - loss: 0.3428 - categorical_accuracy: 0.9189 - val_loss: 0.4194 - val_categorical_accuracy: 0.9200\n",
      "Epoch 112/470\n",
      "3/3 [==============================] - 0s 49ms/step - loss: 0.5243 - categorical_accuracy: 0.8649 - val_loss: 0.4214 - val_categorical_accuracy: 0.9200\n",
      "Epoch 113/470\n",
      "3/3 [==============================] - 0s 46ms/step - loss: 0.4861 - categorical_accuracy: 0.8514 - val_loss: 0.4212 - val_categorical_accuracy: 0.9200\n",
      "Epoch 114/470\n",
      "3/3 [==============================] - 0s 57ms/step - loss: 0.4201 - categorical_accuracy: 0.8514 - val_loss: 0.4194 - val_categorical_accuracy: 0.9200\n",
      "Epoch 115/470\n",
      "3/3 [==============================] - 0s 48ms/step - loss: 0.2875 - categorical_accuracy: 0.9324 - val_loss: 0.4151 - val_categorical_accuracy: 0.9200\n",
      "Epoch 116/470\n",
      "3/3 [==============================] - 0s 51ms/step - loss: 0.4078 - categorical_accuracy: 0.9054 - val_loss: 0.4135 - val_categorical_accuracy: 0.9200\n",
      "Epoch 117/470\n",
      "3/3 [==============================] - 0s 51ms/step - loss: 0.2621 - categorical_accuracy: 0.9730 - val_loss: 0.4121 - val_categorical_accuracy: 0.9200\n",
      "Epoch 118/470\n",
      "3/3 [==============================] - 0s 50ms/step - loss: 0.3846 - categorical_accuracy: 0.9189 - val_loss: 0.4107 - val_categorical_accuracy: 0.9200\n",
      "Epoch 119/470\n",
      "3/3 [==============================] - 0s 50ms/step - loss: 0.3790 - categorical_accuracy: 0.8784 - val_loss: 0.4095 - val_categorical_accuracy: 0.9200\n",
      "Epoch 120/470\n",
      "3/3 [==============================] - 0s 50ms/step - loss: 0.3981 - categorical_accuracy: 0.8919 - val_loss: 0.4113 - val_categorical_accuracy: 0.9200\n",
      "Epoch 121/470\n",
      "3/3 [==============================] - 0s 53ms/step - loss: 0.4310 - categorical_accuracy: 0.8649 - val_loss: 0.4148 - val_categorical_accuracy: 0.9200\n",
      "Epoch 122/470\n",
      "3/3 [==============================] - 0s 54ms/step - loss: 0.4292 - categorical_accuracy: 0.8784 - val_loss: 0.4175 - val_categorical_accuracy: 0.8800\n",
      "Epoch 123/470\n",
      "3/3 [==============================] - 0s 54ms/step - loss: 0.5270 - categorical_accuracy: 0.8108 - val_loss: 0.4246 - val_categorical_accuracy: 0.8800\n",
      "Epoch 124/470\n",
      "3/3 [==============================] - 0s 66ms/step - loss: 0.3611 - categorical_accuracy: 0.8919 - val_loss: 0.4334 - val_categorical_accuracy: 0.8800\n",
      "Epoch 125/470\n",
      "3/3 [==============================] - 0s 66ms/step - loss: 0.3407 - categorical_accuracy: 0.9054 - val_loss: 0.4374 - val_categorical_accuracy: 0.8800\n",
      "Epoch 126/470\n",
      "3/3 [==============================] - 0s 68ms/step - loss: 0.3365 - categorical_accuracy: 0.9054 - val_loss: 0.4367 - val_categorical_accuracy: 0.8800\n",
      "Epoch 127/470\n",
      "3/3 [==============================] - 0s 63ms/step - loss: 0.3476 - categorical_accuracy: 0.9189 - val_loss: 0.4338 - val_categorical_accuracy: 0.8800\n",
      "Epoch 128/470\n",
      "3/3 [==============================] - 0s 75ms/step - loss: 0.3469 - categorical_accuracy: 0.8919 - val_loss: 0.4351 - val_categorical_accuracy: 0.8800\n",
      "Epoch 129/470\n",
      "3/3 [==============================] - 0s 62ms/step - loss: 0.3725 - categorical_accuracy: 0.8649 - val_loss: 0.4339 - val_categorical_accuracy: 0.8800\n",
      "Epoch 130/470\n",
      "3/3 [==============================] - 0s 54ms/step - loss: 0.3578 - categorical_accuracy: 0.9054 - val_loss: 0.4279 - val_categorical_accuracy: 0.8800\n",
      "Epoch 131/470\n",
      "3/3 [==============================] - 0s 50ms/step - loss: 0.2651 - categorical_accuracy: 0.9324 - val_loss: 0.4175 - val_categorical_accuracy: 0.8800\n",
      "Epoch 132/470\n",
      "3/3 [==============================] - 0s 49ms/step - loss: 0.3366 - categorical_accuracy: 0.9324 - val_loss: 0.4056 - val_categorical_accuracy: 0.9200\n",
      "Epoch 133/470\n",
      "3/3 [==============================] - 0s 50ms/step - loss: 0.3713 - categorical_accuracy: 0.9189 - val_loss: 0.3967 - val_categorical_accuracy: 0.9200\n",
      "Epoch 134/470\n",
      "3/3 [==============================] - 0s 52ms/step - loss: 0.3810 - categorical_accuracy: 0.8919 - val_loss: 0.4000 - val_categorical_accuracy: 0.9200\n",
      "Epoch 135/470\n",
      "3/3 [==============================] - 0s 47ms/step - loss: 0.3366 - categorical_accuracy: 0.9189 - val_loss: 0.4039 - val_categorical_accuracy: 0.9200\n",
      "Epoch 136/470\n",
      "3/3 [==============================] - 0s 52ms/step - loss: 0.3226 - categorical_accuracy: 0.9189 - val_loss: 0.4050 - val_categorical_accuracy: 0.9200\n",
      "Epoch 137/470\n",
      "3/3 [==============================] - 0s 60ms/step - loss: 0.4421 - categorical_accuracy: 0.8649 - val_loss: 0.4047 - val_categorical_accuracy: 0.9200\n",
      "Epoch 138/470\n",
      "3/3 [==============================] - 0s 53ms/step - loss: 0.4144 - categorical_accuracy: 0.8919 - val_loss: 0.4065 - val_categorical_accuracy: 0.9200\n",
      "Epoch 139/470\n",
      "3/3 [==============================] - 0s 55ms/step - loss: 0.3180 - categorical_accuracy: 0.9459 - val_loss: 0.4093 - val_categorical_accuracy: 0.9200\n",
      "Epoch 140/470\n",
      "3/3 [==============================] - 0s 51ms/step - loss: 0.4547 - categorical_accuracy: 0.8514 - val_loss: 0.4163 - val_categorical_accuracy: 0.9200\n",
      "Epoch 141/470\n",
      "3/3 [==============================] - 0s 54ms/step - loss: 0.3594 - categorical_accuracy: 0.9054 - val_loss: 0.4247 - val_categorical_accuracy: 0.8800\n",
      "Epoch 142/470\n",
      "3/3 [==============================] - 0s 51ms/step - loss: 0.4850 - categorical_accuracy: 0.8514 - val_loss: 0.4312 - val_categorical_accuracy: 0.8800\n",
      "Epoch 143/470\n",
      "3/3 [==============================] - 0s 52ms/step - loss: 0.4066 - categorical_accuracy: 0.8784 - val_loss: 0.4337 - val_categorical_accuracy: 0.8800\n",
      "Epoch 144/470\n",
      "3/3 [==============================] - 0s 50ms/step - loss: 0.2878 - categorical_accuracy: 0.9189 - val_loss: 0.4318 - val_categorical_accuracy: 0.8800\n",
      "Epoch 145/470\n",
      "3/3 [==============================] - 0s 47ms/step - loss: 0.3309 - categorical_accuracy: 0.9324 - val_loss: 0.4265 - val_categorical_accuracy: 0.8800\n",
      "Epoch 146/470\n",
      "3/3 [==============================] - 0s 53ms/step - loss: 0.3624 - categorical_accuracy: 0.9189 - val_loss: 0.4191 - val_categorical_accuracy: 0.9200\n",
      "Epoch 147/470\n",
      "3/3 [==============================] - 0s 48ms/step - loss: 0.4066 - categorical_accuracy: 0.8784 - val_loss: 0.4102 - val_categorical_accuracy: 0.9200\n",
      "Epoch 148/470\n",
      "3/3 [==============================] - 0s 47ms/step - loss: 0.4875 - categorical_accuracy: 0.8378 - val_loss: 0.4038 - val_categorical_accuracy: 0.9200\n",
      "Epoch 149/470\n",
      "3/3 [==============================] - 0s 52ms/step - loss: 0.3308 - categorical_accuracy: 0.9324 - val_loss: 0.3993 - val_categorical_accuracy: 0.9200\n",
      "Epoch 150/470\n",
      "3/3 [==============================] - 0s 61ms/step - loss: 0.3560 - categorical_accuracy: 0.8919 - val_loss: 0.3974 - val_categorical_accuracy: 0.9200\n",
      "Epoch 151/470\n",
      "3/3 [==============================] - 0s 56ms/step - loss: 0.3645 - categorical_accuracy: 0.9189 - val_loss: 0.3972 - val_categorical_accuracy: 0.9200\n",
      "Epoch 152/470\n",
      "3/3 [==============================] - 0s 51ms/step - loss: 0.4571 - categorical_accuracy: 0.8649 - val_loss: 0.3979 - val_categorical_accuracy: 0.9200\n",
      "Epoch 153/470\n",
      "3/3 [==============================] - 0s 52ms/step - loss: 0.2973 - categorical_accuracy: 0.9189 - val_loss: 0.3951 - val_categorical_accuracy: 0.9200\n",
      "Epoch 154/470\n",
      "3/3 [==============================] - 0s 53ms/step - loss: 0.5392 - categorical_accuracy: 0.8378 - val_loss: 0.3982 - val_categorical_accuracy: 0.9200\n",
      "Epoch 155/470\n",
      "3/3 [==============================] - 0s 50ms/step - loss: 0.3232 - categorical_accuracy: 0.9324 - val_loss: 0.4049 - val_categorical_accuracy: 0.9200\n",
      "Epoch 156/470\n",
      "3/3 [==============================] - 0s 48ms/step - loss: 0.3567 - categorical_accuracy: 0.8919 - val_loss: 0.4103 - val_categorical_accuracy: 0.9200\n",
      "Epoch 157/470\n",
      "3/3 [==============================] - 0s 48ms/step - loss: 0.3376 - categorical_accuracy: 0.9054 - val_loss: 0.4198 - val_categorical_accuracy: 0.8800\n",
      "Epoch 158/470\n",
      "3/3 [==============================] - 0s 48ms/step - loss: 0.3496 - categorical_accuracy: 0.8919 - val_loss: 0.4314 - val_categorical_accuracy: 0.8800\n",
      "Epoch 159/470\n",
      "3/3 [==============================] - 0s 49ms/step - loss: 0.4257 - categorical_accuracy: 0.8649 - val_loss: 0.4355 - val_categorical_accuracy: 0.8800\n",
      "Epoch 160/470\n",
      "3/3 [==============================] - 0s 50ms/step - loss: 0.3729 - categorical_accuracy: 0.9189 - val_loss: 0.4366 - val_categorical_accuracy: 0.8800\n",
      "Epoch 161/470\n",
      "3/3 [==============================] - 0s 50ms/step - loss: 0.4652 - categorical_accuracy: 0.8378 - val_loss: 0.4367 - val_categorical_accuracy: 0.8800\n",
      "Epoch 162/470\n",
      "3/3 [==============================] - 0s 53ms/step - loss: 0.4362 - categorical_accuracy: 0.8919 - val_loss: 0.4315 - val_categorical_accuracy: 0.8800\n",
      "Epoch 163/470\n",
      "3/3 [==============================] - 0s 53ms/step - loss: 0.3509 - categorical_accuracy: 0.9189 - val_loss: 0.4243 - val_categorical_accuracy: 0.8800\n",
      "Epoch 164/470\n",
      "3/3 [==============================] - 0s 54ms/step - loss: 0.2487 - categorical_accuracy: 0.9595 - val_loss: 0.4122 - val_categorical_accuracy: 0.8800\n",
      "Epoch 165/470\n",
      "3/3 [==============================] - 0s 50ms/step - loss: 0.4935 - categorical_accuracy: 0.8514 - val_loss: 0.4052 - val_categorical_accuracy: 0.8800\n",
      "Epoch 166/470\n",
      "3/3 [==============================] - 0s 55ms/step - loss: 0.2808 - categorical_accuracy: 0.9324 - val_loss: 0.4032 - val_categorical_accuracy: 0.8800\n",
      "Epoch 167/470\n",
      "3/3 [==============================] - 0s 53ms/step - loss: 0.2365 - categorical_accuracy: 0.9459 - val_loss: 0.4025 - val_categorical_accuracy: 0.8800\n",
      "Epoch 168/470\n",
      "3/3 [==============================] - 0s 65ms/step - loss: 0.3681 - categorical_accuracy: 0.8784 - val_loss: 0.4024 - val_categorical_accuracy: 0.8800\n",
      "Epoch 169/470\n",
      "3/3 [==============================] - 0s 50ms/step - loss: 0.2568 - categorical_accuracy: 0.9595 - val_loss: 0.4047 - val_categorical_accuracy: 0.8800\n",
      "Epoch 170/470\n",
      "3/3 [==============================] - 0s 47ms/step - loss: 0.3772 - categorical_accuracy: 0.8784 - val_loss: 0.4034 - val_categorical_accuracy: 0.8800\n",
      "Epoch 171/470\n",
      "3/3 [==============================] - 0s 48ms/step - loss: 0.2377 - categorical_accuracy: 0.9595 - val_loss: 0.4032 - val_categorical_accuracy: 0.8800\n",
      "Epoch 172/470\n",
      "3/3 [==============================] - 0s 46ms/step - loss: 0.4204 - categorical_accuracy: 0.8919 - val_loss: 0.4035 - val_categorical_accuracy: 0.8800\n",
      "Epoch 173/470\n",
      "1/3 [=========>....................] - ETA: 0s - loss: 0.4870 - categorical_accuracy: 0.7812"
     ]
    },
    {
     "ename": "KeyboardInterrupt",
     "evalue": "",
     "output_type": "error",
     "traceback": [
      "\u001b[1;31m---------------------------------------------------------------------------\u001b[0m",
      "\u001b[1;31mKeyboardInterrupt\u001b[0m                         Traceback (most recent call last)",
      "\u001b[1;32m<ipython-input-154-0cb62a730dc8>\u001b[0m in \u001b[0;36m<module>\u001b[1;34m\u001b[0m\n\u001b[1;32m----> 1\u001b[1;33m \u001b[0mmodel\u001b[0m\u001b[1;33m.\u001b[0m\u001b[0mfit\u001b[0m\u001b[1;33m(\u001b[0m\u001b[0mx_train\u001b[0m\u001b[1;33m,\u001b[0m\u001b[0my_train\u001b[0m\u001b[1;33m,\u001b[0m\u001b[0mepochs\u001b[0m\u001b[1;33m=\u001b[0m\u001b[1;36m470\u001b[0m\u001b[1;33m,\u001b[0m\u001b[0mvalidation_data\u001b[0m\u001b[1;33m=\u001b[0m\u001b[1;33m(\u001b[0m\u001b[0mx_test\u001b[0m\u001b[1;33m,\u001b[0m\u001b[0my_test\u001b[0m\u001b[1;33m)\u001b[0m\u001b[1;33m)\u001b[0m\u001b[1;33m\u001b[0m\u001b[1;33m\u001b[0m\u001b[0m\n\u001b[0m",
      "\u001b[1;32mc:\\users\\andro\\appdata\\local\\programs\\python\\python39\\lib\\site-packages\\keras\\utils\\traceback_utils.py\u001b[0m in \u001b[0;36merror_handler\u001b[1;34m(*args, **kwargs)\u001b[0m\n\u001b[0;32m     62\u001b[0m     \u001b[0mfiltered_tb\u001b[0m \u001b[1;33m=\u001b[0m \u001b[1;32mNone\u001b[0m\u001b[1;33m\u001b[0m\u001b[1;33m\u001b[0m\u001b[0m\n\u001b[0;32m     63\u001b[0m     \u001b[1;32mtry\u001b[0m\u001b[1;33m:\u001b[0m\u001b[1;33m\u001b[0m\u001b[1;33m\u001b[0m\u001b[0m\n\u001b[1;32m---> 64\u001b[1;33m       \u001b[1;32mreturn\u001b[0m \u001b[0mfn\u001b[0m\u001b[1;33m(\u001b[0m\u001b[1;33m*\u001b[0m\u001b[0margs\u001b[0m\u001b[1;33m,\u001b[0m \u001b[1;33m**\u001b[0m\u001b[0mkwargs\u001b[0m\u001b[1;33m)\u001b[0m\u001b[1;33m\u001b[0m\u001b[1;33m\u001b[0m\u001b[0m\n\u001b[0m\u001b[0;32m     65\u001b[0m     \u001b[1;32mexcept\u001b[0m \u001b[0mException\u001b[0m \u001b[1;32mas\u001b[0m \u001b[0me\u001b[0m\u001b[1;33m:\u001b[0m  \u001b[1;31m# pylint: disable=broad-except\u001b[0m\u001b[1;33m\u001b[0m\u001b[1;33m\u001b[0m\u001b[0m\n\u001b[0;32m     66\u001b[0m       \u001b[0mfiltered_tb\u001b[0m \u001b[1;33m=\u001b[0m \u001b[0m_process_traceback_frames\u001b[0m\u001b[1;33m(\u001b[0m\u001b[0me\u001b[0m\u001b[1;33m.\u001b[0m\u001b[0m__traceback__\u001b[0m\u001b[1;33m)\u001b[0m\u001b[1;33m\u001b[0m\u001b[1;33m\u001b[0m\u001b[0m\n",
      "\u001b[1;32mc:\\users\\andro\\appdata\\local\\programs\\python\\python39\\lib\\site-packages\\keras\\engine\\training.py\u001b[0m in \u001b[0;36mfit\u001b[1;34m(self, x, y, batch_size, epochs, verbose, callbacks, validation_split, validation_data, shuffle, class_weight, sample_weight, initial_epoch, steps_per_epoch, validation_steps, validation_batch_size, validation_freq, max_queue_size, workers, use_multiprocessing)\u001b[0m\n\u001b[0;32m   1250\u001b[0m                 \u001b[0mmodel\u001b[0m\u001b[1;33m=\u001b[0m\u001b[0mself\u001b[0m\u001b[1;33m,\u001b[0m\u001b[1;33m\u001b[0m\u001b[1;33m\u001b[0m\u001b[0m\n\u001b[0;32m   1251\u001b[0m                 steps_per_execution=self._steps_per_execution)\n\u001b[1;32m-> 1252\u001b[1;33m           val_logs = self.evaluate(\n\u001b[0m\u001b[0;32m   1253\u001b[0m               \u001b[0mx\u001b[0m\u001b[1;33m=\u001b[0m\u001b[0mval_x\u001b[0m\u001b[1;33m,\u001b[0m\u001b[1;33m\u001b[0m\u001b[1;33m\u001b[0m\u001b[0m\n\u001b[0;32m   1254\u001b[0m               \u001b[0my\u001b[0m\u001b[1;33m=\u001b[0m\u001b[0mval_y\u001b[0m\u001b[1;33m,\u001b[0m\u001b[1;33m\u001b[0m\u001b[1;33m\u001b[0m\u001b[0m\n",
      "\u001b[1;32mc:\\users\\andro\\appdata\\local\\programs\\python\\python39\\lib\\site-packages\\keras\\utils\\traceback_utils.py\u001b[0m in \u001b[0;36merror_handler\u001b[1;34m(*args, **kwargs)\u001b[0m\n\u001b[0;32m     62\u001b[0m     \u001b[0mfiltered_tb\u001b[0m \u001b[1;33m=\u001b[0m \u001b[1;32mNone\u001b[0m\u001b[1;33m\u001b[0m\u001b[1;33m\u001b[0m\u001b[0m\n\u001b[0;32m     63\u001b[0m     \u001b[1;32mtry\u001b[0m\u001b[1;33m:\u001b[0m\u001b[1;33m\u001b[0m\u001b[1;33m\u001b[0m\u001b[0m\n\u001b[1;32m---> 64\u001b[1;33m       \u001b[1;32mreturn\u001b[0m \u001b[0mfn\u001b[0m\u001b[1;33m(\u001b[0m\u001b[1;33m*\u001b[0m\u001b[0margs\u001b[0m\u001b[1;33m,\u001b[0m \u001b[1;33m**\u001b[0m\u001b[0mkwargs\u001b[0m\u001b[1;33m)\u001b[0m\u001b[1;33m\u001b[0m\u001b[1;33m\u001b[0m\u001b[0m\n\u001b[0m\u001b[0;32m     65\u001b[0m     \u001b[1;32mexcept\u001b[0m \u001b[0mException\u001b[0m \u001b[1;32mas\u001b[0m \u001b[0me\u001b[0m\u001b[1;33m:\u001b[0m  \u001b[1;31m# pylint: disable=broad-except\u001b[0m\u001b[1;33m\u001b[0m\u001b[1;33m\u001b[0m\u001b[0m\n\u001b[0;32m     66\u001b[0m       \u001b[0mfiltered_tb\u001b[0m \u001b[1;33m=\u001b[0m \u001b[0m_process_traceback_frames\u001b[0m\u001b[1;33m(\u001b[0m\u001b[0me\u001b[0m\u001b[1;33m.\u001b[0m\u001b[0m__traceback__\u001b[0m\u001b[1;33m)\u001b[0m\u001b[1;33m\u001b[0m\u001b[1;33m\u001b[0m\u001b[0m\n",
      "\u001b[1;32mc:\\users\\andro\\appdata\\local\\programs\\python\\python39\\lib\\site-packages\\keras\\engine\\training.py\u001b[0m in \u001b[0;36mevaluate\u001b[1;34m(self, x, y, batch_size, verbose, sample_weight, steps, callbacks, max_queue_size, workers, use_multiprocessing, return_dict, **kwargs)\u001b[0m\n\u001b[0;32m   1535\u001b[0m             \u001b[1;32mwith\u001b[0m \u001b[0mtf\u001b[0m\u001b[1;33m.\u001b[0m\u001b[0mprofiler\u001b[0m\u001b[1;33m.\u001b[0m\u001b[0mexperimental\u001b[0m\u001b[1;33m.\u001b[0m\u001b[0mTrace\u001b[0m\u001b[1;33m(\u001b[0m\u001b[1;34m'test'\u001b[0m\u001b[1;33m,\u001b[0m \u001b[0mstep_num\u001b[0m\u001b[1;33m=\u001b[0m\u001b[0mstep\u001b[0m\u001b[1;33m,\u001b[0m \u001b[0m_r\u001b[0m\u001b[1;33m=\u001b[0m\u001b[1;36m1\u001b[0m\u001b[1;33m)\u001b[0m\u001b[1;33m:\u001b[0m\u001b[1;33m\u001b[0m\u001b[1;33m\u001b[0m\u001b[0m\n\u001b[0;32m   1536\u001b[0m               \u001b[0mcallbacks\u001b[0m\u001b[1;33m.\u001b[0m\u001b[0mon_test_batch_begin\u001b[0m\u001b[1;33m(\u001b[0m\u001b[0mstep\u001b[0m\u001b[1;33m)\u001b[0m\u001b[1;33m\u001b[0m\u001b[1;33m\u001b[0m\u001b[0m\n\u001b[1;32m-> 1537\u001b[1;33m               \u001b[0mtmp_logs\u001b[0m \u001b[1;33m=\u001b[0m \u001b[0mself\u001b[0m\u001b[1;33m.\u001b[0m\u001b[0mtest_function\u001b[0m\u001b[1;33m(\u001b[0m\u001b[0miterator\u001b[0m\u001b[1;33m)\u001b[0m\u001b[1;33m\u001b[0m\u001b[1;33m\u001b[0m\u001b[0m\n\u001b[0m\u001b[0;32m   1538\u001b[0m               \u001b[1;32mif\u001b[0m \u001b[0mdata_handler\u001b[0m\u001b[1;33m.\u001b[0m\u001b[0mshould_sync\u001b[0m\u001b[1;33m:\u001b[0m\u001b[1;33m\u001b[0m\u001b[1;33m\u001b[0m\u001b[0m\n\u001b[0;32m   1539\u001b[0m                 \u001b[0mcontext\u001b[0m\u001b[1;33m.\u001b[0m\u001b[0masync_wait\u001b[0m\u001b[1;33m(\u001b[0m\u001b[1;33m)\u001b[0m\u001b[1;33m\u001b[0m\u001b[1;33m\u001b[0m\u001b[0m\n",
      "\u001b[1;32mc:\\users\\andro\\appdata\\local\\programs\\python\\python39\\lib\\site-packages\\tensorflow\\python\\util\\traceback_utils.py\u001b[0m in \u001b[0;36merror_handler\u001b[1;34m(*args, **kwargs)\u001b[0m\n\u001b[0;32m    148\u001b[0m     \u001b[0mfiltered_tb\u001b[0m \u001b[1;33m=\u001b[0m \u001b[1;32mNone\u001b[0m\u001b[1;33m\u001b[0m\u001b[1;33m\u001b[0m\u001b[0m\n\u001b[0;32m    149\u001b[0m     \u001b[1;32mtry\u001b[0m\u001b[1;33m:\u001b[0m\u001b[1;33m\u001b[0m\u001b[1;33m\u001b[0m\u001b[0m\n\u001b[1;32m--> 150\u001b[1;33m       \u001b[1;32mreturn\u001b[0m \u001b[0mfn\u001b[0m\u001b[1;33m(\u001b[0m\u001b[1;33m*\u001b[0m\u001b[0margs\u001b[0m\u001b[1;33m,\u001b[0m \u001b[1;33m**\u001b[0m\u001b[0mkwargs\u001b[0m\u001b[1;33m)\u001b[0m\u001b[1;33m\u001b[0m\u001b[1;33m\u001b[0m\u001b[0m\n\u001b[0m\u001b[0;32m    151\u001b[0m     \u001b[1;32mexcept\u001b[0m \u001b[0mException\u001b[0m \u001b[1;32mas\u001b[0m \u001b[0me\u001b[0m\u001b[1;33m:\u001b[0m\u001b[1;33m\u001b[0m\u001b[1;33m\u001b[0m\u001b[0m\n\u001b[0;32m    152\u001b[0m       \u001b[0mfiltered_tb\u001b[0m \u001b[1;33m=\u001b[0m \u001b[0m_process_traceback_frames\u001b[0m\u001b[1;33m(\u001b[0m\u001b[0me\u001b[0m\u001b[1;33m.\u001b[0m\u001b[0m__traceback__\u001b[0m\u001b[1;33m)\u001b[0m\u001b[1;33m\u001b[0m\u001b[1;33m\u001b[0m\u001b[0m\n",
      "\u001b[1;32mc:\\users\\andro\\appdata\\local\\programs\\python\\python39\\lib\\site-packages\\tensorflow\\python\\eager\\def_function.py\u001b[0m in \u001b[0;36m__call__\u001b[1;34m(self, *args, **kwds)\u001b[0m\n\u001b[0;32m    908\u001b[0m \u001b[1;33m\u001b[0m\u001b[0m\n\u001b[0;32m    909\u001b[0m       \u001b[1;32mwith\u001b[0m \u001b[0mOptionalXlaContext\u001b[0m\u001b[1;33m(\u001b[0m\u001b[0mself\u001b[0m\u001b[1;33m.\u001b[0m\u001b[0m_jit_compile\u001b[0m\u001b[1;33m)\u001b[0m\u001b[1;33m:\u001b[0m\u001b[1;33m\u001b[0m\u001b[1;33m\u001b[0m\u001b[0m\n\u001b[1;32m--> 910\u001b[1;33m         \u001b[0mresult\u001b[0m \u001b[1;33m=\u001b[0m \u001b[0mself\u001b[0m\u001b[1;33m.\u001b[0m\u001b[0m_call\u001b[0m\u001b[1;33m(\u001b[0m\u001b[1;33m*\u001b[0m\u001b[0margs\u001b[0m\u001b[1;33m,\u001b[0m \u001b[1;33m**\u001b[0m\u001b[0mkwds\u001b[0m\u001b[1;33m)\u001b[0m\u001b[1;33m\u001b[0m\u001b[1;33m\u001b[0m\u001b[0m\n\u001b[0m\u001b[0;32m    911\u001b[0m \u001b[1;33m\u001b[0m\u001b[0m\n\u001b[0;32m    912\u001b[0m       \u001b[0mnew_tracing_count\u001b[0m \u001b[1;33m=\u001b[0m \u001b[0mself\u001b[0m\u001b[1;33m.\u001b[0m\u001b[0mexperimental_get_tracing_count\u001b[0m\u001b[1;33m(\u001b[0m\u001b[1;33m)\u001b[0m\u001b[1;33m\u001b[0m\u001b[1;33m\u001b[0m\u001b[0m\n",
      "\u001b[1;32mc:\\users\\andro\\appdata\\local\\programs\\python\\python39\\lib\\site-packages\\tensorflow\\python\\eager\\def_function.py\u001b[0m in \u001b[0;36m_call\u001b[1;34m(self, *args, **kwds)\u001b[0m\n\u001b[0;32m    947\u001b[0m       \u001b[1;31m# In this case we have not created variables on the first call. So we can\u001b[0m\u001b[1;33m\u001b[0m\u001b[1;33m\u001b[0m\u001b[1;33m\u001b[0m\u001b[0m\n\u001b[0;32m    948\u001b[0m       \u001b[1;31m# run the first trace but we should fail if variables are created.\u001b[0m\u001b[1;33m\u001b[0m\u001b[1;33m\u001b[0m\u001b[1;33m\u001b[0m\u001b[0m\n\u001b[1;32m--> 949\u001b[1;33m       \u001b[0mresults\u001b[0m \u001b[1;33m=\u001b[0m \u001b[0mself\u001b[0m\u001b[1;33m.\u001b[0m\u001b[0m_stateful_fn\u001b[0m\u001b[1;33m(\u001b[0m\u001b[1;33m*\u001b[0m\u001b[0margs\u001b[0m\u001b[1;33m,\u001b[0m \u001b[1;33m**\u001b[0m\u001b[0mkwds\u001b[0m\u001b[1;33m)\u001b[0m\u001b[1;33m\u001b[0m\u001b[1;33m\u001b[0m\u001b[0m\n\u001b[0m\u001b[0;32m    950\u001b[0m       \u001b[1;32mif\u001b[0m \u001b[0mself\u001b[0m\u001b[1;33m.\u001b[0m\u001b[0m_created_variables\u001b[0m \u001b[1;32mand\u001b[0m \u001b[1;32mnot\u001b[0m \u001b[0mALLOW_DYNAMIC_VARIABLE_CREATION\u001b[0m\u001b[1;33m:\u001b[0m\u001b[1;33m\u001b[0m\u001b[1;33m\u001b[0m\u001b[0m\n\u001b[0;32m    951\u001b[0m         raise ValueError(\"Creating variables on a non-first call to a function\"\n",
      "\u001b[1;32mc:\\users\\andro\\appdata\\local\\programs\\python\\python39\\lib\\site-packages\\tensorflow\\python\\eager\\function.py\u001b[0m in \u001b[0;36m__call__\u001b[1;34m(self, *args, **kwargs)\u001b[0m\n\u001b[0;32m   3128\u001b[0m       (graph_function,\n\u001b[0;32m   3129\u001b[0m        filtered_flat_args) = self._maybe_define_function(args, kwargs)\n\u001b[1;32m-> 3130\u001b[1;33m     return graph_function._call_flat(\n\u001b[0m\u001b[0;32m   3131\u001b[0m         filtered_flat_args, captured_inputs=graph_function.captured_inputs)  # pylint: disable=protected-access\n\u001b[0;32m   3132\u001b[0m \u001b[1;33m\u001b[0m\u001b[0m\n",
      "\u001b[1;32mc:\\users\\andro\\appdata\\local\\programs\\python\\python39\\lib\\site-packages\\tensorflow\\python\\eager\\function.py\u001b[0m in \u001b[0;36m_call_flat\u001b[1;34m(self, args, captured_inputs, cancellation_manager)\u001b[0m\n\u001b[0;32m   1957\u001b[0m         and executing_eagerly):\n\u001b[0;32m   1958\u001b[0m       \u001b[1;31m# No tape is watching; skip to running the function.\u001b[0m\u001b[1;33m\u001b[0m\u001b[1;33m\u001b[0m\u001b[1;33m\u001b[0m\u001b[0m\n\u001b[1;32m-> 1959\u001b[1;33m       return self._build_call_outputs(self._inference_function.call(\n\u001b[0m\u001b[0;32m   1960\u001b[0m           ctx, args, cancellation_manager=cancellation_manager))\n\u001b[0;32m   1961\u001b[0m     forward_backward = self._select_forward_and_backward_functions(\n",
      "\u001b[1;32mc:\\users\\andro\\appdata\\local\\programs\\python\\python39\\lib\\site-packages\\tensorflow\\python\\eager\\function.py\u001b[0m in \u001b[0;36mcall\u001b[1;34m(self, ctx, args, cancellation_manager)\u001b[0m\n\u001b[0;32m    596\u001b[0m       \u001b[1;32mwith\u001b[0m \u001b[0m_InterpolateFunctionError\u001b[0m\u001b[1;33m(\u001b[0m\u001b[0mself\u001b[0m\u001b[1;33m)\u001b[0m\u001b[1;33m:\u001b[0m\u001b[1;33m\u001b[0m\u001b[1;33m\u001b[0m\u001b[0m\n\u001b[0;32m    597\u001b[0m         \u001b[1;32mif\u001b[0m \u001b[0mcancellation_manager\u001b[0m \u001b[1;32mis\u001b[0m \u001b[1;32mNone\u001b[0m\u001b[1;33m:\u001b[0m\u001b[1;33m\u001b[0m\u001b[1;33m\u001b[0m\u001b[0m\n\u001b[1;32m--> 598\u001b[1;33m           outputs = execute.execute(\n\u001b[0m\u001b[0;32m    599\u001b[0m               \u001b[0mstr\u001b[0m\u001b[1;33m(\u001b[0m\u001b[0mself\u001b[0m\u001b[1;33m.\u001b[0m\u001b[0msignature\u001b[0m\u001b[1;33m.\u001b[0m\u001b[0mname\u001b[0m\u001b[1;33m)\u001b[0m\u001b[1;33m,\u001b[0m\u001b[1;33m\u001b[0m\u001b[1;33m\u001b[0m\u001b[0m\n\u001b[0;32m    600\u001b[0m               \u001b[0mnum_outputs\u001b[0m\u001b[1;33m=\u001b[0m\u001b[0mself\u001b[0m\u001b[1;33m.\u001b[0m\u001b[0m_num_outputs\u001b[0m\u001b[1;33m,\u001b[0m\u001b[1;33m\u001b[0m\u001b[1;33m\u001b[0m\u001b[0m\n",
      "\u001b[1;32mc:\\users\\andro\\appdata\\local\\programs\\python\\python39\\lib\\site-packages\\tensorflow\\python\\eager\\execute.py\u001b[0m in \u001b[0;36mquick_execute\u001b[1;34m(op_name, num_outputs, inputs, attrs, ctx, name)\u001b[0m\n\u001b[0;32m     56\u001b[0m   \u001b[1;32mtry\u001b[0m\u001b[1;33m:\u001b[0m\u001b[1;33m\u001b[0m\u001b[1;33m\u001b[0m\u001b[0m\n\u001b[0;32m     57\u001b[0m     \u001b[0mctx\u001b[0m\u001b[1;33m.\u001b[0m\u001b[0mensure_initialized\u001b[0m\u001b[1;33m(\u001b[0m\u001b[1;33m)\u001b[0m\u001b[1;33m\u001b[0m\u001b[1;33m\u001b[0m\u001b[0m\n\u001b[1;32m---> 58\u001b[1;33m     tensors = pywrap_tfe.TFE_Py_Execute(ctx._handle, device_name, op_name,\n\u001b[0m\u001b[0;32m     59\u001b[0m                                         inputs, attrs, num_outputs)\n\u001b[0;32m     60\u001b[0m   \u001b[1;32mexcept\u001b[0m \u001b[0mcore\u001b[0m\u001b[1;33m.\u001b[0m\u001b[0m_NotOkStatusException\u001b[0m \u001b[1;32mas\u001b[0m \u001b[0me\u001b[0m\u001b[1;33m:\u001b[0m\u001b[1;33m\u001b[0m\u001b[1;33m\u001b[0m\u001b[0m\n",
      "\u001b[1;31mKeyboardInterrupt\u001b[0m: "
     ]
    }
   ],
   "source": [
    "model.fit(x_train,y_train,epochs=470,validation_data=(x_test,y_test))"
   ]
  },
  {
   "cell_type": "code",
   "execution_count": 155,
   "id": "incoming-intranet",
   "metadata": {
    "scrolled": false
   },
   "outputs": [
    {
     "name": "stdout",
     "output_type": "stream",
     "text": [
      "1/1 [==============================] - 0s 59ms/step - loss: 0.4065 - categorical_accuracy: 0.8800\n"
     ]
    },
    {
     "data": {
      "text/plain": [
       "[0.4064924716949463, 0.8799999952316284]"
      ]
     },
     "execution_count": 155,
     "metadata": {},
     "output_type": "execute_result"
    }
   ],
   "source": [
    "model.evaluate(x_test,y_test)"
   ]
  },
  {
   "cell_type": "code",
   "execution_count": 117,
   "id": "juvenile-maple",
   "metadata": {},
   "outputs": [],
   "source": [
    "model=tf.keras.models.load_model(\"fertilizer.h5\")"
   ]
  },
  {
   "cell_type": "code",
   "execution_count": 119,
   "id": "expensive-conditioning",
   "metadata": {},
   "outputs": [
    {
     "name": "stdout",
     "output_type": "stream",
     "text": [
      "Model: \"sequential\"\n",
      "_________________________________________________________________\n",
      " Layer (type)                Output Shape              Param #   \n",
      "=================================================================\n",
      " dense (Dense)               (None, 10)                90        \n",
      "                                                                 \n",
      " dropout (Dropout)           (None, 10)                0         \n",
      "                                                                 \n",
      " dense_1 (Dense)             (None, 7)                 77        \n",
      "                                                                 \n",
      "=================================================================\n",
      "Total params: 167\n",
      "Trainable params: 167\n",
      "Non-trainable params: 0\n",
      "_________________________________________________________________\n"
     ]
    }
   ],
   "source": [
    "model.summary()"
   ]
  },
  {
   "cell_type": "code",
   "execution_count": 120,
   "id": "passing-buyer",
   "metadata": {},
   "outputs": [
    {
     "data": {
      "text/plain": [
       "'28-28'"
      ]
     },
     "execution_count": 120,
     "metadata": {},
     "output_type": "execute_result"
    }
   ],
   "source": [
    "predict=model.predict(x_test)\n",
    "y_in[np.argmax(predict[9])]"
   ]
  },
  {
   "cell_type": "code",
   "execution_count": 121,
   "id": "tamil-seventh",
   "metadata": {
    "scrolled": true
   },
   "outputs": [
    {
     "data": {
      "text/plain": [
       "'28-28'"
      ]
     },
     "execution_count": 121,
     "metadata": {},
     "output_type": "execute_result"
    }
   ],
   "source": [
    "y_in[np.argmax(y_test[9])]"
   ]
  },
  {
   "cell_type": "code",
   "execution_count": 176,
   "id": "focal-remains",
   "metadata": {},
   "outputs": [],
   "source": [
    "model.save(\"fertilizer.h5\")"
   ]
  },
  {
   "cell_type": "code",
   "execution_count": 122,
   "id": "sealed-spice",
   "metadata": {
    "scrolled": true
   },
   "outputs": [
    {
     "data": {
      "text/plain": [
       "(25, 8)"
      ]
     },
     "execution_count": 122,
     "metadata": {},
     "output_type": "execute_result"
    }
   ],
   "source": [
    "x_test.shape"
   ]
  },
  {
   "cell_type": "code",
   "execution_count": 135,
   "id": "amateur-wound",
   "metadata": {
    "scrolled": true
   },
   "outputs": [
    {
     "ename": "TypeError",
     "evalue": "'list' object is not callable",
     "output_type": "error",
     "traceback": [
      "\u001b[1;31m---------------------------------------------------------------------------\u001b[0m",
      "\u001b[1;31mTypeError\u001b[0m                                 Traceback (most recent call last)",
      "\u001b[1;32m<ipython-input-135-83b3f02d5321>\u001b[0m in \u001b[0;36m<module>\u001b[1;34m\u001b[0m\n\u001b[1;32m----> 1\u001b[1;33m \u001b[0mtemperature\u001b[0m\u001b[1;33m=\u001b[0m\u001b[0mint\u001b[0m\u001b[1;33m(\u001b[0m\u001b[0minput\u001b[0m\u001b[1;33m(\u001b[0m\u001b[1;34m\"Enter temperature\"\u001b[0m\u001b[1;33m)\u001b[0m\u001b[1;33m)\u001b[0m\u001b[1;33m\u001b[0m\u001b[1;33m\u001b[0m\u001b[0m\n\u001b[0m\u001b[0;32m      2\u001b[0m \u001b[0mhumidity\u001b[0m\u001b[1;33m=\u001b[0m\u001b[0mint\u001b[0m\u001b[1;33m(\u001b[0m\u001b[0minput\u001b[0m\u001b[1;33m(\u001b[0m\u001b[1;34m\"Enter humidity\"\u001b[0m\u001b[1;33m)\u001b[0m\u001b[1;33m)\u001b[0m\u001b[1;33m\u001b[0m\u001b[1;33m\u001b[0m\u001b[0m\n\u001b[0;32m      3\u001b[0m \u001b[0mmoisture\u001b[0m\u001b[1;33m=\u001b[0m\u001b[0mint\u001b[0m\u001b[1;33m(\u001b[0m\u001b[0minput\u001b[0m\u001b[1;33m(\u001b[0m\u001b[1;34m\"Enter moisture\"\u001b[0m\u001b[1;33m)\u001b[0m\u001b[1;33m)\u001b[0m\u001b[1;33m\u001b[0m\u001b[1;33m\u001b[0m\u001b[0m\n\u001b[0;32m      4\u001b[0m \u001b[0msoil\u001b[0m\u001b[1;33m=\u001b[0m\u001b[0mlabel_soil\u001b[0m\u001b[1;33m[\u001b[0m\u001b[0minput\u001b[0m\u001b[1;33m(\u001b[0m\u001b[1;34m\"Enter soil type\"\u001b[0m\u001b[1;33m)\u001b[0m\u001b[1;33m]\u001b[0m\u001b[1;33m\u001b[0m\u001b[1;33m\u001b[0m\u001b[0m\n\u001b[0;32m      5\u001b[0m \u001b[0mcrop\u001b[0m\u001b[1;33m=\u001b[0m\u001b[0mlabel_crop\u001b[0m\u001b[1;33m[\u001b[0m\u001b[0minput\u001b[0m\u001b[1;33m(\u001b[0m\u001b[1;34m\"Enter crop type\"\u001b[0m\u001b[1;33m)\u001b[0m\u001b[1;33m]\u001b[0m\u001b[1;33m\u001b[0m\u001b[1;33m\u001b[0m\u001b[0m\n",
      "\u001b[1;31mTypeError\u001b[0m: 'list' object is not callable"
     ]
    }
   ],
   "source": [
    "temperature=int(input(\"Enter temperature\"))\n",
    "humidity=int(input(\"Enter humidity\")) \n",
    "moisture=int(input(\"Enter moisture\")) \n",
    "soil=label_soil[input(\"Enter soil type\")] \n",
    "crop=label_crop[input(\"Enter crop type\")]\n",
    "\n",
    "nitrogen=int(input(\"Enter nitrogen\")) \n",
    "potassium=int(input(\"Enter potassium\")) \n",
    "phosporous=int(input(\"Enter phosporous\")) "
   ]
  },
  {
   "cell_type": "code",
   "execution_count": null,
   "id": "voluntary-toyota",
   "metadata": {},
   "outputs": [],
   "source": [
    "input=[temperature,humidity,moisture,soil,crop,nitrogen,potassium,phosporous]"
   ]
  },
  {
   "cell_type": "code",
   "execution_count": 125,
   "id": "registered-accommodation",
   "metadata": {},
   "outputs": [],
   "source": [
    "ip=np.array(input)"
   ]
  },
  {
   "cell_type": "code",
   "execution_count": 126,
   "id": "broadband-performance",
   "metadata": {
    "scrolled": true
   },
   "outputs": [
    {
     "data": {
      "text/plain": [
       "(8,)"
      ]
     },
     "execution_count": 126,
     "metadata": {},
     "output_type": "execute_result"
    }
   ],
   "source": [
    "ip.shape"
   ]
  },
  {
   "cell_type": "code",
   "execution_count": 132,
   "id": "funded-bridge",
   "metadata": {},
   "outputs": [],
   "source": [
    "ip=np.expand_dims(ip,axis=0)"
   ]
  },
  {
   "cell_type": "code",
   "execution_count": 133,
   "id": "former-efficiency",
   "metadata": {},
   "outputs": [
    {
     "data": {
      "text/plain": [
       "(1, 8)"
      ]
     },
     "execution_count": 133,
     "metadata": {},
     "output_type": "execute_result"
    }
   ],
   "source": [
    "ip.shape"
   ]
  },
  {
   "cell_type": "code",
   "execution_count": 127,
   "id": "palestinian-flexibility",
   "metadata": {},
   "outputs": [],
   "source": [
    "p=model.predict(np.expand_dims(ip,axis=0))"
   ]
  },
  {
   "cell_type": "code",
   "execution_count": 130,
   "id": "instructional-width",
   "metadata": {},
   "outputs": [],
   "source": [
    "out=y_in[np.argmax(p)]"
   ]
  },
  {
   "cell_type": "code",
   "execution_count": 131,
   "id": "robust-arbor",
   "metadata": {},
   "outputs": [
    {
     "data": {
      "text/plain": [
       "'DAP'"
      ]
     },
     "execution_count": 131,
     "metadata": {},
     "output_type": "execute_result"
    }
   ],
   "source": [
    "out"
   ]
  }
 ],
 "metadata": {
  "kernelspec": {
   "display_name": "Python 3",
   "language": "python",
   "name": "python3"
  },
  "language_info": {
   "codemirror_mode": {
    "name": "ipython",
    "version": 3
   },
   "file_extension": ".py",
   "mimetype": "text/x-python",
   "name": "python",
   "nbconvert_exporter": "python",
   "pygments_lexer": "ipython3",
   "version": "3.9.6"
  }
 },
 "nbformat": 4,
 "nbformat_minor": 5
}
